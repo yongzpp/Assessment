{
  "cells": [
    {
      "cell_type": "markdown",
      "source": [
        "# Assessment\n"
      ],
      "metadata": {
        "id": "cUx79HQMve3x"
      }
    },
    {
      "cell_type": "code",
      "execution_count": 1,
      "metadata": {
        "colab": {
          "base_uri": "https://localhost:8080/"
        },
        "id": "QqlhZyzuPKuO",
        "outputId": "86ff7d0a-7b9a-41d4-d3ba-398383b38497"
      },
      "outputs": [
        {
          "output_type": "stream",
          "name": "stdout",
          "text": [
            "Mounted at /content/gdrive\n"
          ]
        }
      ],
      "source": [
        "from google.colab import drive\n",
        "drive.mount('/content/gdrive')"
      ]
    },
    {
      "cell_type": "code",
      "execution_count": 2,
      "metadata": {
        "id": "9LDWPRDgN7AS"
      },
      "outputs": [],
      "source": [
        "import os\n",
        "os.chdir('/content/gdrive/My Drive')"
      ]
    },
    {
      "cell_type": "markdown",
      "source": [
        "### Task 2"
      ],
      "metadata": {
        "id": "Gg4N_9feuzXW"
      }
    },
    {
      "cell_type": "code",
      "execution_count": 3,
      "metadata": {
        "colab": {
          "base_uri": "https://localhost:8080/",
          "height": 206
        },
        "id": "_WxRp1jaN7qF",
        "outputId": "095d6319-61e7-48b0-d108-0e9cd7f09631"
      },
      "outputs": [
        {
          "output_type": "execute_result",
          "data": {
            "text/plain": [
              "   insuree# gender  is45OrOlder isMarried hasKids  insuredMonths  \\\n",
              "0         1      F          0.0       Yes     Yes             23   \n",
              "1         2      F          1.0        No      No             42   \n",
              "2         3      F          0.0       Yes      No             72   \n",
              "3         4      F          0.0       Yes     Yes             13   \n",
              "4         5      F          0.0        No      No             37   \n",
              "\n",
              "  termLifeInsurance multipleTermLifePolicies healthInsurance healthRiders  \\\n",
              "0               Yes                       No              No          NaN   \n",
              "1               Yes                      Yes         Class A            3   \n",
              "2               Yes                       No              No          NaN   \n",
              "3               Yes                       No              No          NaN   \n",
              "4               Yes                      Yes         Class A          3,4   \n",
              "\n",
              "   premiumFrequency eStatements monthlyPremium totalPremium renewal  \n",
              "0              12.0         Yes          19,65       451,55       Y  \n",
              "1               1.0         Yes          84,65      3541,35       N  \n",
              "2              12.0          No           19,4      1496,45       Y  \n",
              "3              12.0          No          19,55        265,3       Y  \n",
              "4               1.0          No          100,3       3541,4       Y  "
            ],
            "text/html": [
              "\n",
              "  <div id=\"df-89807b45-be45-49f6-9581-be2d3033f279\">\n",
              "    <div class=\"colab-df-container\">\n",
              "      <div>\n",
              "<style scoped>\n",
              "    .dataframe tbody tr th:only-of-type {\n",
              "        vertical-align: middle;\n",
              "    }\n",
              "\n",
              "    .dataframe tbody tr th {\n",
              "        vertical-align: top;\n",
              "    }\n",
              "\n",
              "    .dataframe thead th {\n",
              "        text-align: right;\n",
              "    }\n",
              "</style>\n",
              "<table border=\"1\" class=\"dataframe\">\n",
              "  <thead>\n",
              "    <tr style=\"text-align: right;\">\n",
              "      <th></th>\n",
              "      <th>insuree#</th>\n",
              "      <th>gender</th>\n",
              "      <th>is45OrOlder</th>\n",
              "      <th>isMarried</th>\n",
              "      <th>hasKids</th>\n",
              "      <th>insuredMonths</th>\n",
              "      <th>termLifeInsurance</th>\n",
              "      <th>multipleTermLifePolicies</th>\n",
              "      <th>healthInsurance</th>\n",
              "      <th>healthRiders</th>\n",
              "      <th>premiumFrequency</th>\n",
              "      <th>eStatements</th>\n",
              "      <th>monthlyPremium</th>\n",
              "      <th>totalPremium</th>\n",
              "      <th>renewal</th>\n",
              "    </tr>\n",
              "  </thead>\n",
              "  <tbody>\n",
              "    <tr>\n",
              "      <th>0</th>\n",
              "      <td>1</td>\n",
              "      <td>F</td>\n",
              "      <td>0.0</td>\n",
              "      <td>Yes</td>\n",
              "      <td>Yes</td>\n",
              "      <td>23</td>\n",
              "      <td>Yes</td>\n",
              "      <td>No</td>\n",
              "      <td>No</td>\n",
              "      <td>NaN</td>\n",
              "      <td>12.0</td>\n",
              "      <td>Yes</td>\n",
              "      <td>19,65</td>\n",
              "      <td>451,55</td>\n",
              "      <td>Y</td>\n",
              "    </tr>\n",
              "    <tr>\n",
              "      <th>1</th>\n",
              "      <td>2</td>\n",
              "      <td>F</td>\n",
              "      <td>1.0</td>\n",
              "      <td>No</td>\n",
              "      <td>No</td>\n",
              "      <td>42</td>\n",
              "      <td>Yes</td>\n",
              "      <td>Yes</td>\n",
              "      <td>Class A</td>\n",
              "      <td>3</td>\n",
              "      <td>1.0</td>\n",
              "      <td>Yes</td>\n",
              "      <td>84,65</td>\n",
              "      <td>3541,35</td>\n",
              "      <td>N</td>\n",
              "    </tr>\n",
              "    <tr>\n",
              "      <th>2</th>\n",
              "      <td>3</td>\n",
              "      <td>F</td>\n",
              "      <td>0.0</td>\n",
              "      <td>Yes</td>\n",
              "      <td>No</td>\n",
              "      <td>72</td>\n",
              "      <td>Yes</td>\n",
              "      <td>No</td>\n",
              "      <td>No</td>\n",
              "      <td>NaN</td>\n",
              "      <td>12.0</td>\n",
              "      <td>No</td>\n",
              "      <td>19,4</td>\n",
              "      <td>1496,45</td>\n",
              "      <td>Y</td>\n",
              "    </tr>\n",
              "    <tr>\n",
              "      <th>3</th>\n",
              "      <td>4</td>\n",
              "      <td>F</td>\n",
              "      <td>0.0</td>\n",
              "      <td>Yes</td>\n",
              "      <td>Yes</td>\n",
              "      <td>13</td>\n",
              "      <td>Yes</td>\n",
              "      <td>No</td>\n",
              "      <td>No</td>\n",
              "      <td>NaN</td>\n",
              "      <td>12.0</td>\n",
              "      <td>No</td>\n",
              "      <td>19,55</td>\n",
              "      <td>265,3</td>\n",
              "      <td>Y</td>\n",
              "    </tr>\n",
              "    <tr>\n",
              "      <th>4</th>\n",
              "      <td>5</td>\n",
              "      <td>F</td>\n",
              "      <td>0.0</td>\n",
              "      <td>No</td>\n",
              "      <td>No</td>\n",
              "      <td>37</td>\n",
              "      <td>Yes</td>\n",
              "      <td>Yes</td>\n",
              "      <td>Class A</td>\n",
              "      <td>3,4</td>\n",
              "      <td>1.0</td>\n",
              "      <td>No</td>\n",
              "      <td>100,3</td>\n",
              "      <td>3541,4</td>\n",
              "      <td>Y</td>\n",
              "    </tr>\n",
              "  </tbody>\n",
              "</table>\n",
              "</div>\n",
              "      <button class=\"colab-df-convert\" onclick=\"convertToInteractive('df-89807b45-be45-49f6-9581-be2d3033f279')\"\n",
              "              title=\"Convert this dataframe to an interactive table.\"\n",
              "              style=\"display:none;\">\n",
              "        \n",
              "  <svg xmlns=\"http://www.w3.org/2000/svg\" height=\"24px\"viewBox=\"0 0 24 24\"\n",
              "       width=\"24px\">\n",
              "    <path d=\"M0 0h24v24H0V0z\" fill=\"none\"/>\n",
              "    <path d=\"M18.56 5.44l.94 2.06.94-2.06 2.06-.94-2.06-.94-.94-2.06-.94 2.06-2.06.94zm-11 1L8.5 8.5l.94-2.06 2.06-.94-2.06-.94L8.5 2.5l-.94 2.06-2.06.94zm10 10l.94 2.06.94-2.06 2.06-.94-2.06-.94-.94-2.06-.94 2.06-2.06.94z\"/><path d=\"M17.41 7.96l-1.37-1.37c-.4-.4-.92-.59-1.43-.59-.52 0-1.04.2-1.43.59L10.3 9.45l-7.72 7.72c-.78.78-.78 2.05 0 2.83L4 21.41c.39.39.9.59 1.41.59.51 0 1.02-.2 1.41-.59l7.78-7.78 2.81-2.81c.8-.78.8-2.07 0-2.86zM5.41 20L4 18.59l7.72-7.72 1.47 1.35L5.41 20z\"/>\n",
              "  </svg>\n",
              "      </button>\n",
              "      \n",
              "  <style>\n",
              "    .colab-df-container {\n",
              "      display:flex;\n",
              "      flex-wrap:wrap;\n",
              "      gap: 12px;\n",
              "    }\n",
              "\n",
              "    .colab-df-convert {\n",
              "      background-color: #E8F0FE;\n",
              "      border: none;\n",
              "      border-radius: 50%;\n",
              "      cursor: pointer;\n",
              "      display: none;\n",
              "      fill: #1967D2;\n",
              "      height: 32px;\n",
              "      padding: 0 0 0 0;\n",
              "      width: 32px;\n",
              "    }\n",
              "\n",
              "    .colab-df-convert:hover {\n",
              "      background-color: #E2EBFA;\n",
              "      box-shadow: 0px 1px 2px rgba(60, 64, 67, 0.3), 0px 1px 3px 1px rgba(60, 64, 67, 0.15);\n",
              "      fill: #174EA6;\n",
              "    }\n",
              "\n",
              "    [theme=dark] .colab-df-convert {\n",
              "      background-color: #3B4455;\n",
              "      fill: #D2E3FC;\n",
              "    }\n",
              "\n",
              "    [theme=dark] .colab-df-convert:hover {\n",
              "      background-color: #434B5C;\n",
              "      box-shadow: 0px 1px 3px 1px rgba(0, 0, 0, 0.15);\n",
              "      filter: drop-shadow(0px 1px 2px rgba(0, 0, 0, 0.3));\n",
              "      fill: #FFFFFF;\n",
              "    }\n",
              "  </style>\n",
              "\n",
              "      <script>\n",
              "        const buttonEl =\n",
              "          document.querySelector('#df-89807b45-be45-49f6-9581-be2d3033f279 button.colab-df-convert');\n",
              "        buttonEl.style.display =\n",
              "          google.colab.kernel.accessAllowed ? 'block' : 'none';\n",
              "\n",
              "        async function convertToInteractive(key) {\n",
              "          const element = document.querySelector('#df-89807b45-be45-49f6-9581-be2d3033f279');\n",
              "          const dataTable =\n",
              "            await google.colab.kernel.invokeFunction('convertToInteractive',\n",
              "                                                     [key], {});\n",
              "          if (!dataTable) return;\n",
              "\n",
              "          const docLinkHtml = 'Like what you see? Visit the ' +\n",
              "            '<a target=\"_blank\" href=https://colab.research.google.com/notebooks/data_table.ipynb>data table notebook</a>'\n",
              "            + ' to learn more about interactive tables.';\n",
              "          element.innerHTML = '';\n",
              "          dataTable['output_type'] = 'display_data';\n",
              "          await google.colab.output.renderOutput(dataTable, element);\n",
              "          const docLink = document.createElement('div');\n",
              "          docLink.innerHTML = docLinkHtml;\n",
              "          element.appendChild(docLink);\n",
              "        }\n",
              "      </script>\n",
              "    </div>\n",
              "  </div>\n",
              "  "
            ]
          },
          "metadata": {},
          "execution_count": 3
        }
      ],
      "source": [
        "import pandas as pd\n",
        "df = pd.read_csv('insurance_data.csv', sep=';')\n",
        "df.head()"
      ]
    },
    {
      "cell_type": "code",
      "source": [
        "# Check for missing values in (%)\n",
        "for i in df.columns:\n",
        "    if df[i].isnull().sum():\n",
        "        print(str(i) + \": \" + str(df[i].isnull().sum()/len(df)*100))"
      ],
      "metadata": {
        "colab": {
          "base_uri": "https://localhost:8080/"
        },
        "id": "-AwD5-iWZEFt",
        "outputId": "3c0eb441-5c6e-4ac2-bd0b-ddcda7be24a9"
      },
      "execution_count": 177,
      "outputs": [
        {
          "output_type": "stream",
          "name": "stdout",
          "text": [
            "gender: 2.0545454545454542\n",
            "is45OrOlder: 1.7454545454545456\n",
            "healthRiders: 36.03636363636364\n",
            "premiumFrequency: 2.0727272727272728\n"
          ]
        }
      ]
    },
    {
      "cell_type": "code",
      "source": [
        "# Check the unique values in columns to replace dirty inputs\n",
        "for i in df.columns:\n",
        "    print(i + \":\")\n",
        "    print(df[i].unique())"
      ],
      "metadata": {
        "id": "BeQU95swdl0A"
      },
      "execution_count": null,
      "outputs": []
    },
    {
      "cell_type": "code",
      "source": [
        "# Check current data types of each columns\n",
        "for i in df.columns:\n",
        "    print(i + \": \" + str(df[i].dtypes))"
      ],
      "metadata": {
        "colab": {
          "base_uri": "https://localhost:8080/"
        },
        "id": "7B5Vx2YV7dp2",
        "outputId": "6a06bdb8-2b59-4437-ca91-3472e9a3be3a"
      },
      "execution_count": 179,
      "outputs": [
        {
          "output_type": "stream",
          "name": "stdout",
          "text": [
            "insuree#: int64\n",
            "gender: object\n",
            "is45OrOlder: float64\n",
            "isMarried: object\n",
            "hasKids: object\n",
            "insuredMonths: int64\n",
            "termLifeInsurance: object\n",
            "multipleTermLifePolicies: object\n",
            "healthInsurance: object\n",
            "healthRiders: object\n",
            "premiumFrequency: float64\n",
            "eStatements: object\n",
            "monthlyPremium: object\n",
            "totalPremium: object\n",
            "renewal: object\n"
          ]
        }
      ]
    },
    {
      "cell_type": "code",
      "source": [
        "# Converting data types where appropriate\n",
        "df['is45OrOlder'] = df['is45OrOlder'].astype('bool')\n",
        "\n",
        "df['isMarried'] = df['isMarried'].apply(lambda x: 1 if x==\"Yes\" else 0)\n",
        "df['isMarried'] = df['isMarried'].astype('bool')\n",
        "\n",
        "df['hasKids'] = df['hasKids'].apply(lambda x: 1 if x==\"Yes\" else 0)\n",
        "df['hasKids'] = df['hasKids'].astype('bool')\n",
        "\n",
        "df['termLifeInsurance'] = df['termLifeInsurance'].apply(lambda x: 1 if x==\"Yes\" else 0)\n",
        "df['termLifeInsurance'] = df['termLifeInsurance'].astype('bool')\n",
        "\n",
        "df['multipleTermLifePolicies'] = np.where(df['multipleTermLifePolicies']=='no term life policy taken', \"No\", df['multipleTermLifePolicies'])\n",
        "df['multipleTermLifePolicies'] = np.where(df['multipleTermLifePolicies']=='term life policy not taken', \"No\", df['multipleTermLifePolicies'])\n",
        "df['multipleTermLifePolicies'] = df['multipleTermLifePolicies'].apply(lambda x: 1 if x==\"Yes\" else 0)\n",
        "df['multipleTermLifePolicies'] = df['multipleTermLifePolicies'].astype('bool')\n",
        "\n",
        "df['healthInsurance'] = df['healthInsurance'].apply(lambda x: 0 if x==\"No\" else 1)\n",
        "df['healthInsurance'] = df['healthInsurance'].astype('bool')\n",
        "\n",
        "df['premiumFrequency'].fillna(0, inplace = True)\n",
        "df['premiumFrequency'] = df['premiumFrequency'].astype('Int64')\n",
        "\n",
        "df['eStatements'] = df['eStatements'].apply(lambda x: 1 if x==\"Yes\" else 0)\n",
        "df['eStatements'] = df['eStatements'].astype('bool')\n",
        "\n",
        "# Replace , with . to denote decimal points in amounts. Could not find better explanation from data source.\n",
        "df['monthlyPremium'] = df['monthlyPremium'].str.replace(',','.')\n",
        "df['monthlyPremium'] = df['monthlyPremium'].astype('float64')\n",
        "\n",
        "# Replace , with . to denote decimal points in amounts. Could not find better explanation from data source.\n",
        "df['totalPremium'] = df['totalPremium'].str.replace(',','.')\n",
        "df['totalPremium'] = df['totalPremium'].str.replace(',','.')\n",
        "df['totalPremium'] = np.where(df['totalPremium']==\" \", 0, df['totalPremium'])\n",
        "df['totalPremium'] = df['totalPremium'].astype('float64')\n",
        "\n",
        "df['renewal'] = df['renewal'].apply(lambda x: 1 if x==\"Y\" else 0)\n",
        "df['renewal'] = df['renewal'].astype('bool')\n",
        "\n",
        "# Convert to list of integers\n",
        "df['healthRiders'] = df['healthRiders'].str.split(\",\")\n",
        "df['healthRiders'] = df['healthRiders'].apply(lambda x: [int(i) for i in x] if type(x) != float else x)"
      ],
      "metadata": {
        "id": "Yub64fTP7ds3"
      },
      "execution_count": 180,
      "outputs": []
    },
    {
      "cell_type": "code",
      "source": [
        "# Check the types matches description\n",
        "for i in df.columns:\n",
        "    print(i + \": \" + str(df[i].dtypes))"
      ],
      "metadata": {
        "colab": {
          "base_uri": "https://localhost:8080/"
        },
        "id": "B3lhp8c27dvX",
        "outputId": "b66847f5-e69a-4f91-dc5c-fae304806420"
      },
      "execution_count": 181,
      "outputs": [
        {
          "output_type": "stream",
          "name": "stdout",
          "text": [
            "insuree#: int64\n",
            "gender: object\n",
            "is45OrOlder: bool\n",
            "isMarried: bool\n",
            "hasKids: bool\n",
            "insuredMonths: int64\n",
            "termLifeInsurance: bool\n",
            "multipleTermLifePolicies: bool\n",
            "healthInsurance: bool\n",
            "healthRiders: object\n",
            "premiumFrequency: Int64\n",
            "eStatements: bool\n",
            "monthlyPremium: float64\n",
            "totalPremium: float64\n",
            "renewal: bool\n"
          ]
        }
      ]
    },
    {
      "cell_type": "code",
      "source": [
        "# !apt install mongodb >log\n",
        "# !service mongodb start\n",
        "import pymongo\n",
        "from pymongo import MongoClient\n",
        "\n",
        "# Set up the connection\n",
        "client = MongoClient()\n",
        "db = client[\"insurance_data\"]\n",
        "my_collection = db[\"insurance_data\"]\n",
        "\n",
        "# Set up nested dictionary\n",
        "data_dict = df.to_dict(\"records\")\n",
        "for i in range(len(data_dict)):\n",
        "    data_dict[i][\"termLifeInsurance\"] = {\"hasPolicy\": data_dict[i][\"termLifeInsurance\"], \"hasMultiplePolcies\": data_dict[i][\"multipleTermLifePolicies\"]}\n",
        "    data_dict[i][\"healthInsurance\"] = {\"hasPolicy\": data_dict[i][\"healthInsurance\"], \"riders\": data_dict[i][\"healthRiders\"]}\n",
        "    del data_dict[i]['multipleTermLifePolicies']\n",
        "    del data_dict[i]['healthRiders']\n",
        "\n",
        "# Push to mongodb\n",
        "my_collection.insert_many(data_dict)"
      ],
      "metadata": {
        "colab": {
          "base_uri": "https://localhost:8080/"
        },
        "id": "orTc9mB27dx7",
        "outputId": "d139b9d7-e01b-4997-d346-dfcc7858251e"
      },
      "execution_count": 142,
      "outputs": [
        {
          "output_type": "execute_result",
          "data": {
            "text/plain": [
              "<pymongo.results.InsertManyResult at 0x7fc190ce2c50>"
            ]
          },
          "metadata": {},
          "execution_count": 142
        }
      ]
    },
    {
      "cell_type": "markdown",
      "source": [
        "### Task 1"
      ],
      "metadata": {
        "id": "gsmLvz97ZXCG"
      }
    },
    {
      "cell_type": "code",
      "source": [
        "# Import required packages\n",
        "import pandas as pd\n",
        "import numpy as np\n",
        "import matplotlib.pyplot as plt\n",
        "from sklearn import preprocessing"
      ],
      "metadata": {
        "id": "ongmdBS2PyDO"
      },
      "execution_count": 69,
      "outputs": []
    },
    {
      "cell_type": "code",
      "source": [
        "# ; is used as delimiter insetad of usual comma\n",
        "df = pd.read_csv('insurance_data.csv', sep=';')\n",
        "df.head()"
      ],
      "metadata": {
        "colab": {
          "base_uri": "https://localhost:8080/",
          "height": 206
        },
        "id": "dxsQYJsncm6z",
        "outputId": "4b473857-a476-4c7d-c31f-31f24e2448df"
      },
      "execution_count": 70,
      "outputs": [
        {
          "output_type": "execute_result",
          "data": {
            "text/plain": [
              "   insuree# gender  is45OrOlder isMarried hasKids  insuredMonths  \\\n",
              "0         1      F          0.0       Yes     Yes             23   \n",
              "1         2      F          1.0        No      No             42   \n",
              "2         3      F          0.0       Yes      No             72   \n",
              "3         4      F          0.0       Yes     Yes             13   \n",
              "4         5      F          0.0        No      No             37   \n",
              "\n",
              "  termLifeInsurance multipleTermLifePolicies healthInsurance healthRiders  \\\n",
              "0               Yes                       No              No          NaN   \n",
              "1               Yes                      Yes         Class A            3   \n",
              "2               Yes                       No              No          NaN   \n",
              "3               Yes                       No              No          NaN   \n",
              "4               Yes                      Yes         Class A          3,4   \n",
              "\n",
              "   premiumFrequency eStatements monthlyPremium totalPremium renewal  \n",
              "0              12.0         Yes          19,65       451,55       Y  \n",
              "1               1.0         Yes          84,65      3541,35       N  \n",
              "2              12.0          No           19,4      1496,45       Y  \n",
              "3              12.0          No          19,55        265,3       Y  \n",
              "4               1.0          No          100,3       3541,4       Y  "
            ],
            "text/html": [
              "\n",
              "  <div id=\"df-a11f837d-cf74-4c01-acdf-0149d1944f71\">\n",
              "    <div class=\"colab-df-container\">\n",
              "      <div>\n",
              "<style scoped>\n",
              "    .dataframe tbody tr th:only-of-type {\n",
              "        vertical-align: middle;\n",
              "    }\n",
              "\n",
              "    .dataframe tbody tr th {\n",
              "        vertical-align: top;\n",
              "    }\n",
              "\n",
              "    .dataframe thead th {\n",
              "        text-align: right;\n",
              "    }\n",
              "</style>\n",
              "<table border=\"1\" class=\"dataframe\">\n",
              "  <thead>\n",
              "    <tr style=\"text-align: right;\">\n",
              "      <th></th>\n",
              "      <th>insuree#</th>\n",
              "      <th>gender</th>\n",
              "      <th>is45OrOlder</th>\n",
              "      <th>isMarried</th>\n",
              "      <th>hasKids</th>\n",
              "      <th>insuredMonths</th>\n",
              "      <th>termLifeInsurance</th>\n",
              "      <th>multipleTermLifePolicies</th>\n",
              "      <th>healthInsurance</th>\n",
              "      <th>healthRiders</th>\n",
              "      <th>premiumFrequency</th>\n",
              "      <th>eStatements</th>\n",
              "      <th>monthlyPremium</th>\n",
              "      <th>totalPremium</th>\n",
              "      <th>renewal</th>\n",
              "    </tr>\n",
              "  </thead>\n",
              "  <tbody>\n",
              "    <tr>\n",
              "      <th>0</th>\n",
              "      <td>1</td>\n",
              "      <td>F</td>\n",
              "      <td>0.0</td>\n",
              "      <td>Yes</td>\n",
              "      <td>Yes</td>\n",
              "      <td>23</td>\n",
              "      <td>Yes</td>\n",
              "      <td>No</td>\n",
              "      <td>No</td>\n",
              "      <td>NaN</td>\n",
              "      <td>12.0</td>\n",
              "      <td>Yes</td>\n",
              "      <td>19,65</td>\n",
              "      <td>451,55</td>\n",
              "      <td>Y</td>\n",
              "    </tr>\n",
              "    <tr>\n",
              "      <th>1</th>\n",
              "      <td>2</td>\n",
              "      <td>F</td>\n",
              "      <td>1.0</td>\n",
              "      <td>No</td>\n",
              "      <td>No</td>\n",
              "      <td>42</td>\n",
              "      <td>Yes</td>\n",
              "      <td>Yes</td>\n",
              "      <td>Class A</td>\n",
              "      <td>3</td>\n",
              "      <td>1.0</td>\n",
              "      <td>Yes</td>\n",
              "      <td>84,65</td>\n",
              "      <td>3541,35</td>\n",
              "      <td>N</td>\n",
              "    </tr>\n",
              "    <tr>\n",
              "      <th>2</th>\n",
              "      <td>3</td>\n",
              "      <td>F</td>\n",
              "      <td>0.0</td>\n",
              "      <td>Yes</td>\n",
              "      <td>No</td>\n",
              "      <td>72</td>\n",
              "      <td>Yes</td>\n",
              "      <td>No</td>\n",
              "      <td>No</td>\n",
              "      <td>NaN</td>\n",
              "      <td>12.0</td>\n",
              "      <td>No</td>\n",
              "      <td>19,4</td>\n",
              "      <td>1496,45</td>\n",
              "      <td>Y</td>\n",
              "    </tr>\n",
              "    <tr>\n",
              "      <th>3</th>\n",
              "      <td>4</td>\n",
              "      <td>F</td>\n",
              "      <td>0.0</td>\n",
              "      <td>Yes</td>\n",
              "      <td>Yes</td>\n",
              "      <td>13</td>\n",
              "      <td>Yes</td>\n",
              "      <td>No</td>\n",
              "      <td>No</td>\n",
              "      <td>NaN</td>\n",
              "      <td>12.0</td>\n",
              "      <td>No</td>\n",
              "      <td>19,55</td>\n",
              "      <td>265,3</td>\n",
              "      <td>Y</td>\n",
              "    </tr>\n",
              "    <tr>\n",
              "      <th>4</th>\n",
              "      <td>5</td>\n",
              "      <td>F</td>\n",
              "      <td>0.0</td>\n",
              "      <td>No</td>\n",
              "      <td>No</td>\n",
              "      <td>37</td>\n",
              "      <td>Yes</td>\n",
              "      <td>Yes</td>\n",
              "      <td>Class A</td>\n",
              "      <td>3,4</td>\n",
              "      <td>1.0</td>\n",
              "      <td>No</td>\n",
              "      <td>100,3</td>\n",
              "      <td>3541,4</td>\n",
              "      <td>Y</td>\n",
              "    </tr>\n",
              "  </tbody>\n",
              "</table>\n",
              "</div>\n",
              "      <button class=\"colab-df-convert\" onclick=\"convertToInteractive('df-a11f837d-cf74-4c01-acdf-0149d1944f71')\"\n",
              "              title=\"Convert this dataframe to an interactive table.\"\n",
              "              style=\"display:none;\">\n",
              "        \n",
              "  <svg xmlns=\"http://www.w3.org/2000/svg\" height=\"24px\"viewBox=\"0 0 24 24\"\n",
              "       width=\"24px\">\n",
              "    <path d=\"M0 0h24v24H0V0z\" fill=\"none\"/>\n",
              "    <path d=\"M18.56 5.44l.94 2.06.94-2.06 2.06-.94-2.06-.94-.94-2.06-.94 2.06-2.06.94zm-11 1L8.5 8.5l.94-2.06 2.06-.94-2.06-.94L8.5 2.5l-.94 2.06-2.06.94zm10 10l.94 2.06.94-2.06 2.06-.94-2.06-.94-.94-2.06-.94 2.06-2.06.94z\"/><path d=\"M17.41 7.96l-1.37-1.37c-.4-.4-.92-.59-1.43-.59-.52 0-1.04.2-1.43.59L10.3 9.45l-7.72 7.72c-.78.78-.78 2.05 0 2.83L4 21.41c.39.39.9.59 1.41.59.51 0 1.02-.2 1.41-.59l7.78-7.78 2.81-2.81c.8-.78.8-2.07 0-2.86zM5.41 20L4 18.59l7.72-7.72 1.47 1.35L5.41 20z\"/>\n",
              "  </svg>\n",
              "      </button>\n",
              "      \n",
              "  <style>\n",
              "    .colab-df-container {\n",
              "      display:flex;\n",
              "      flex-wrap:wrap;\n",
              "      gap: 12px;\n",
              "    }\n",
              "\n",
              "    .colab-df-convert {\n",
              "      background-color: #E8F0FE;\n",
              "      border: none;\n",
              "      border-radius: 50%;\n",
              "      cursor: pointer;\n",
              "      display: none;\n",
              "      fill: #1967D2;\n",
              "      height: 32px;\n",
              "      padding: 0 0 0 0;\n",
              "      width: 32px;\n",
              "    }\n",
              "\n",
              "    .colab-df-convert:hover {\n",
              "      background-color: #E2EBFA;\n",
              "      box-shadow: 0px 1px 2px rgba(60, 64, 67, 0.3), 0px 1px 3px 1px rgba(60, 64, 67, 0.15);\n",
              "      fill: #174EA6;\n",
              "    }\n",
              "\n",
              "    [theme=dark] .colab-df-convert {\n",
              "      background-color: #3B4455;\n",
              "      fill: #D2E3FC;\n",
              "    }\n",
              "\n",
              "    [theme=dark] .colab-df-convert:hover {\n",
              "      background-color: #434B5C;\n",
              "      box-shadow: 0px 1px 3px 1px rgba(0, 0, 0, 0.15);\n",
              "      filter: drop-shadow(0px 1px 2px rgba(0, 0, 0, 0.3));\n",
              "      fill: #FFFFFF;\n",
              "    }\n",
              "  </style>\n",
              "\n",
              "      <script>\n",
              "        const buttonEl =\n",
              "          document.querySelector('#df-a11f837d-cf74-4c01-acdf-0149d1944f71 button.colab-df-convert');\n",
              "        buttonEl.style.display =\n",
              "          google.colab.kernel.accessAllowed ? 'block' : 'none';\n",
              "\n",
              "        async function convertToInteractive(key) {\n",
              "          const element = document.querySelector('#df-a11f837d-cf74-4c01-acdf-0149d1944f71');\n",
              "          const dataTable =\n",
              "            await google.colab.kernel.invokeFunction('convertToInteractive',\n",
              "                                                     [key], {});\n",
              "          if (!dataTable) return;\n",
              "\n",
              "          const docLinkHtml = 'Like what you see? Visit the ' +\n",
              "            '<a target=\"_blank\" href=https://colab.research.google.com/notebooks/data_table.ipynb>data table notebook</a>'\n",
              "            + ' to learn more about interactive tables.';\n",
              "          element.innerHTML = '';\n",
              "          dataTable['output_type'] = 'display_data';\n",
              "          await google.colab.output.renderOutput(dataTable, element);\n",
              "          const docLink = document.createElement('div');\n",
              "          docLink.innerHTML = docLinkHtml;\n",
              "          element.appendChild(docLink);\n",
              "        }\n",
              "      </script>\n",
              "    </div>\n",
              "  </div>\n",
              "  "
            ]
          },
          "metadata": {},
          "execution_count": 70
        }
      ]
    },
    {
      "cell_type": "markdown",
      "source": [
        "Data Preprocessing"
      ],
      "metadata": {
        "id": "XSuMvEOlVXNT"
      }
    },
    {
      "cell_type": "code",
      "source": [
        "# Check for missing values in (%)\n",
        "for i in df.columns:\n",
        "    if df[i].isnull().sum():\n",
        "        print(str(i) + \": \" + str(df[i].isnull().sum()/len(df)*100))"
      ],
      "metadata": {
        "colab": {
          "base_uri": "https://localhost:8080/"
        },
        "id": "3yGWgdLwP4kX",
        "outputId": "9709b990-6b8c-401e-e64b-b69d664088ef"
      },
      "execution_count": 71,
      "outputs": [
        {
          "output_type": "stream",
          "name": "stdout",
          "text": [
            "gender: 2.0545454545454542\n",
            "is45OrOlder: 1.7454545454545456\n",
            "healthRiders: 36.03636363636364\n",
            "premiumFrequency: 2.0727272727272728\n"
          ]
        }
      ]
    },
    {
      "cell_type": "code",
      "source": [
        "# Fill in missing values\n",
        "\n",
        "# With more gender pronouns today, people may not identify to M or F, hence we label them as Others\n",
        "df['gender'].fillna(\"Others\", inplace = True)\n",
        "# Percentages of missing values are low, and 45 or older is proportionally much smaller than 45 or younger, we follow the majority\n",
        "df['is45OrOlder'].fillna(df['is45OrOlder'].mode()[0], inplace = True)\n",
        "# Percentages of missing values are low, we assume most people will follow the most popular premium frequency plan\n",
        "df['premiumFrequency'].fillna(df['premiumFrequency'].mode()[0], inplace = True)"
      ],
      "metadata": {
        "id": "TjfJGJVlQBcp"
      },
      "execution_count": 72,
      "outputs": []
    },
    {
      "cell_type": "code",
      "source": [
        "# Check the unique values in non integer or float columns to replace dirty inputs\n",
        "for i in df.columns:\n",
        "    if df[i].dtypes == \"bool\" or df[i].dtypes == \"object\":\n",
        "        print(i + \":\")\n",
        "        print(df[i].unique())"
      ],
      "metadata": {
        "colab": {
          "base_uri": "https://localhost:8080/"
        },
        "id": "GHBQrHxFXQ3U",
        "outputId": "1e8bc063-f349-4c80-8115-e0a2d5206c4e"
      },
      "execution_count": 73,
      "outputs": [
        {
          "output_type": "stream",
          "name": "stdout",
          "text": [
            "gender:\n",
            "['F' 'M' 'Others']\n",
            "isMarried:\n",
            "['Yes' 'No']\n",
            "hasKids:\n",
            "['Yes' 'No']\n",
            "termLifeInsurance:\n",
            "['Yes' 'No']\n",
            "multipleTermLifePolicies:\n",
            "['No' 'Yes' 'no term life policy taken' 'term life policy not taken']\n",
            "healthInsurance:\n",
            "['No' 'Class A' 'Class B']\n",
            "healthRiders:\n",
            "[nan '3' '3,4' '2' '1' '2,3,4' '1,2,3,4' '2,4' '1,2,4' '1,4' '1,2' '1,2,3'\n",
            " '1,3,4' '1,3' '4' '2,3']\n",
            "eStatements:\n",
            "['Yes' 'No']\n",
            "monthlyPremium:\n",
            "['19,65' '84,65' '19,4' ... '112,25' '83,6' '73,5']\n",
            "totalPremium:\n",
            "['451,55' '3541,35' '1496,45' ... '4557,5' '1090,6' '393,15']\n",
            "renewal:\n",
            "['Y' 'N']\n"
          ]
        }
      ]
    },
    {
      "cell_type": "code",
      "source": [
        "# Converting data types where appropriate\n",
        "df['is45OrOlder'] = df['is45OrOlder'].astype('bool')\n",
        "\n",
        "df['isMarried'] = df['isMarried'].apply(lambda x: 1 if x==\"Yes\" else 0)\n",
        "df['isMarried'] = df['isMarried'].astype('bool')\n",
        "\n",
        "df['hasKids'] = df['hasKids'].apply(lambda x: 1 if x==\"Yes\" else 0)\n",
        "df['hasKids'] = df['hasKids'].astype('bool')\n",
        "\n",
        "df['termLifeInsurance'] = df['termLifeInsurance'].apply(lambda x: 1 if x==\"Yes\" else 0)\n",
        "df['termLifeInsurance'] = df['termLifeInsurance'].astype('bool')\n",
        "\n",
        "df['multipleTermLifePolicies'] = np.where(df['multipleTermLifePolicies']=='no term life policy taken', \"No\", df['multipleTermLifePolicies'])\n",
        "df['multipleTermLifePolicies'] = np.where(df['multipleTermLifePolicies']=='term life policy not taken', \"No\", df['multipleTermLifePolicies'])\n",
        "df['multipleTermLifePolicies'] = df['multipleTermLifePolicies'].apply(lambda x: 1 if x==\"Yes\" else 0)\n",
        "df['multipleTermLifePolicies'] = df['multipleTermLifePolicies'].astype('bool')\n",
        "\n",
        "df['healthInsurance'] = df['healthInsurance'].apply(lambda x: 0 if x==\"No\" else 1)\n",
        "df['healthInsurance'] = df['healthInsurance'].astype('bool')\n",
        "\n",
        "# Converted to object (eventually be label encoded as unique int values represents monthly, quaterlly, yearly etc)\n",
        "df['premiumFrequency'] = df['premiumFrequency'].astype('object')\n",
        "\n",
        "df['eStatements'] = df['eStatements'].apply(lambda x: 1 if x==\"Yes\" else 0)\n",
        "df['eStatements'] = df['eStatements'].astype('bool')\n",
        "\n",
        "# Replace , with . to denote decimal points in amounts. Could not find better explanation from data source.\n",
        "df['monthlyPremium'] = df['monthlyPremium'].str.replace(',','.')\n",
        "df['monthlyPremium'] = df['monthlyPremium'].astype('float64')\n",
        "\n",
        "# Replace , with . to denote decimal points in amounts. Could not find better explanation from data source.\n",
        "df['totalPremium'] = df['totalPremium'].str.replace(',','.')\n",
        "df['totalPremium'] = df['totalPremium'].str.replace(',','.')\n",
        "df['totalPremium'] = np.where(df['totalPremium']==\" \", 0, df['totalPremium'])\n",
        "df['totalPremium'] = df['totalPremium'].astype('float64')\n",
        "\n",
        "df['renewal'] = df['renewal'].apply(lambda x: 1 if x==\"Y\" else 0)\n",
        "df['renewal'] = df['renewal'].astype('bool')\n",
        "\n",
        "# Split the list of health riders to dummy columns with 1 representing insuree signing up for rider N, 0 otherwise, where N is 1 to 4.\n",
        "df['healthRiders'] = df['healthRiders'].str.split(\",\")\n",
        "df = df.drop('healthRiders', 1).join(df['healthRiders'].str.join('|').str.get_dummies().astype(\"int64\"))\n",
        "df = df.rename(columns={'1': 'rider1', '2': 'rider2', '3': 'rider3', '4': 'rider4', 'None': 'riderNone'})\n",
        "df['rider1'] = df['rider1'].astype('bool')\n",
        "df['rider2'] = df['rider2'].astype('bool')\n",
        "df['rider3'] = df['rider3'].astype('bool')\n",
        "df['rider4'] = df['rider4'].astype('bool')\n",
        "\n",
        "# Dropped as it is not needed\n",
        "df.drop(columns='insuree#', inplace=True)"
      ],
      "metadata": {
        "colab": {
          "base_uri": "https://localhost:8080/"
        },
        "id": "Vz1vkE9tc3wn",
        "outputId": "6fbc75e8-239e-4993-b989-2a0bf29c7e7e"
      },
      "execution_count": 74,
      "outputs": [
        {
          "output_type": "stream",
          "name": "stderr",
          "text": [
            "/usr/local/lib/python3.7/dist-packages/ipykernel_launcher.py:42: FutureWarning: In a future version of pandas all arguments of DataFrame.drop except for the argument 'labels' will be keyword-only\n"
          ]
        }
      ]
    },
    {
      "cell_type": "code",
      "source": [
        "# Rough distribution of categorical variables\n",
        "plt.figure()\n",
        "fig, ax = plt.subplots(4,4,figsize=(28,24))\n",
        "\n",
        "i = 0\n",
        "for feature in df.columns.values:\n",
        "    if df[feature].dtype == \"object\" or df[feature].dtype == \"bool\":\n",
        "        i += 1\n",
        "        plt.subplot(4,4,i)\n",
        "        df[feature].value_counts(dropna=False).plot(kind=\"bar\")\n",
        "        plt.xlabel(feature, fontsize=12)\n",
        "plt.show()"
      ],
      "metadata": {
        "colab": {
          "base_uri": "https://localhost:8080/",
          "height": 1000
        },
        "id": "Z0fLh3pH7d50",
        "outputId": "5926ca99-a6ce-42f4-fcfe-2820c784a288"
      },
      "execution_count": 75,
      "outputs": [
        {
          "output_type": "display_data",
          "data": {
            "text/plain": [
              "<Figure size 432x288 with 0 Axes>"
            ]
          },
          "metadata": {}
        },
        {
          "output_type": "display_data",
          "data": {
            "text/plain": [
              "<Figure size 2016x1728 with 16 Axes>"
            ],
            "image/png": "[encoded data removed]"
          },
          "metadata": {
            "needs_background": "light"
          }
        }
      ]
    },
    {
      "cell_type": "code",
      "source": [
        "# Rough distribution of numerical variables and check for outliers\n",
        "plt.figure()\n",
        "fig, ax = plt.subplots(1,4,figsize=(28,8))\n",
        "\n",
        "i = 0\n",
        "for feature in df.columns.values:\n",
        "    if df[feature].dtype != \"object\" and df[feature].dtype != \"bool\":\n",
        "        i += 1\n",
        "        plt.subplot(1,4,i)\n",
        "        df.boxplot(feature)\n",
        "        plt.xlabel(feature, fontsize=12)\n",
        "plt.show()"
      ],
      "metadata": {
        "colab": {
          "base_uri": "https://localhost:8080/",
          "height": 521
        },
        "id": "S0VO-Dbo7d8g",
        "outputId": "810918a4-03c3-45ad-8010-a74890c9be11"
      },
      "execution_count": 76,
      "outputs": [
        {
          "output_type": "display_data",
          "data": {
            "text/plain": [
              "<Figure size 432x288 with 0 Axes>"
            ]
          },
          "metadata": {}
        },
        {
          "output_type": "display_data",
          "data": {
            "text/plain": [
              "<Figure size 2016x576 with 4 Axes>"
            ],
            "image/png": "[encoded data removed]"
          },
          "metadata": {
            "needs_background": "light"
          }
        }
      ]
    },
    {
      "cell_type": "code",
      "source": [
        "# Label encode the categorical variables, standardize all the integers\n",
        "for i in df.columns:\n",
        "    if df[feature].dtype == \"object\" or df[feature].dtype == \"bool\":\n",
        "      le = preprocessing.LabelEncoder()\n",
        "      le.fit(df[i])\n",
        "      df[i] = le.transform(df[i])"
      ],
      "metadata": {
        "id": "okrdM9GZ7d_A"
      },
      "execution_count": 77,
      "outputs": []
    },
    {
      "cell_type": "code",
      "source": [
        "# Removal of outliers (note all monthlyPremium outliers corresponds to totalPremium outliers)\n",
        "# Rationale being the amounts are significantly larger than the 25% to 75% values, amounts does not seem possible as well.\n",
        "# We will build 2 models one with outlier and another without.\n",
        "# Outliers in insuredMonths left untouched as they seemed reasonable.\n",
        "cols = ['monthlyPremium']\n",
        "Q1 = df[cols].quantile(0.25)\n",
        "Q3 = df[cols].quantile(0.75)\n",
        "IQR = Q3 - Q1\n",
        "new_df = df[~((df[cols] < (Q1 - 1.5 * IQR)) |(df[cols] > (Q3 + 1.5 * IQR))).any(axis=1)]"
      ],
      "metadata": {
        "id": "kxc1CTzhRGy2"
      },
      "execution_count": 78,
      "outputs": []
    },
    {
      "cell_type": "code",
      "source": [
        "new_df.head()"
      ],
      "metadata": {
        "colab": {
          "base_uri": "https://localhost:8080/",
          "height": 206
        },
        "id": "quSAj3Fe7eBm",
        "outputId": "0483dabe-dd6b-4670-9271-a5426a894490"
      },
      "execution_count": 81,
      "outputs": [
        {
          "output_type": "execute_result",
          "data": {
            "text/plain": [
              "   gender  is45OrOlder  isMarried  hasKids  insuredMonths  termLifeInsurance  \\\n",
              "0       0            0          1        1             23                  1   \n",
              "1       0            1          0        0             42                  1   \n",
              "2       0            0          1        0             72                  1   \n",
              "3       0            0          1        1             13                  1   \n",
              "4       0            0          0        0             37                  1   \n",
              "\n",
              "   multipleTermLifePolicies  healthInsurance  premiumFrequency  eStatements  \\\n",
              "0                         0                0                 2            1   \n",
              "1                         1                1                 0            1   \n",
              "2                         0                0                 2            0   \n",
              "3                         0                0                 2            0   \n",
              "4                         1                1                 0            0   \n",
              "\n",
              "   monthlyPremium  totalPremium  renewal  rider1  rider2  rider3  rider4  \n",
              "0              22          1209        1       0       0       0       0  \n",
              "1             918          3695        0       0       0       1       0  \n",
              "2              17          2554        1       0       0       0       0  \n",
              "3              20           856        1       0       0       0       0  \n",
              "4            1208          3696        1       0       0       1       1  "
            ],
            "text/html": [
              "\n",
              "  <div id=\"df-2aaf0b5f-099c-44ed-aaf8-afee2465039c\">\n",
              "    <div class=\"colab-df-container\">\n",
              "      <div>\n",
              "<style scoped>\n",
              "    .dataframe tbody tr th:only-of-type {\n",
              "        vertical-align: middle;\n",
              "    }\n",
              "\n",
              "    .dataframe tbody tr th {\n",
              "        vertical-align: top;\n",
              "    }\n",
              "\n",
              "    .dataframe thead th {\n",
              "        text-align: right;\n",
              "    }\n",
              "</style>\n",
              "<table border=\"1\" class=\"dataframe\">\n",
              "  <thead>\n",
              "    <tr style=\"text-align: right;\">\n",
              "      <th></th>\n",
              "      <th>gender</th>\n",
              "      <th>is45OrOlder</th>\n",
              "      <th>isMarried</th>\n",
              "      <th>hasKids</th>\n",
              "      <th>insuredMonths</th>\n",
              "      <th>termLifeInsurance</th>\n",
              "      <th>multipleTermLifePolicies</th>\n",
              "      <th>healthInsurance</th>\n",
              "      <th>premiumFrequency</th>\n",
              "      <th>eStatements</th>\n",
              "      <th>monthlyPremium</th>\n",
              "      <th>totalPremium</th>\n",
              "      <th>renewal</th>\n",
              "      <th>rider1</th>\n",
              "      <th>rider2</th>\n",
              "      <th>rider3</th>\n",
              "      <th>rider4</th>\n",
              "    </tr>\n",
              "  </thead>\n",
              "  <tbody>\n",
              "    <tr>\n",
              "      <th>0</th>\n",
              "      <td>0</td>\n",
              "      <td>0</td>\n",
              "      <td>1</td>\n",
              "      <td>1</td>\n",
              "      <td>23</td>\n",
              "      <td>1</td>\n",
              "      <td>0</td>\n",
              "      <td>0</td>\n",
              "      <td>2</td>\n",
              "      <td>1</td>\n",
              "      <td>22</td>\n",
              "      <td>1209</td>\n",
              "      <td>1</td>\n",
              "      <td>0</td>\n",
              "      <td>0</td>\n",
              "      <td>0</td>\n",
              "      <td>0</td>\n",
              "    </tr>\n",
              "    <tr>\n",
              "      <th>1</th>\n",
              "      <td>0</td>\n",
              "      <td>1</td>\n",
              "      <td>0</td>\n",
              "      <td>0</td>\n",
              "      <td>42</td>\n",
              "      <td>1</td>\n",
              "      <td>1</td>\n",
              "      <td>1</td>\n",
              "      <td>0</td>\n",
              "      <td>1</td>\n",
              "      <td>918</td>\n",
              "      <td>3695</td>\n",
              "      <td>0</td>\n",
              "      <td>0</td>\n",
              "      <td>0</td>\n",
              "      <td>1</td>\n",
              "      <td>0</td>\n",
              "    </tr>\n",
              "    <tr>\n",
              "      <th>2</th>\n",
              "      <td>0</td>\n",
              "      <td>0</td>\n",
              "      <td>1</td>\n",
              "      <td>0</td>\n",
              "      <td>72</td>\n",
              "      <td>1</td>\n",
              "      <td>0</td>\n",
              "      <td>0</td>\n",
              "      <td>2</td>\n",
              "      <td>0</td>\n",
              "      <td>17</td>\n",
              "      <td>2554</td>\n",
              "      <td>1</td>\n",
              "      <td>0</td>\n",
              "      <td>0</td>\n",
              "      <td>0</td>\n",
              "      <td>0</td>\n",
              "    </tr>\n",
              "    <tr>\n",
              "      <th>3</th>\n",
              "      <td>0</td>\n",
              "      <td>0</td>\n",
              "      <td>1</td>\n",
              "      <td>1</td>\n",
              "      <td>13</td>\n",
              "      <td>1</td>\n",
              "      <td>0</td>\n",
              "      <td>0</td>\n",
              "      <td>2</td>\n",
              "      <td>0</td>\n",
              "      <td>20</td>\n",
              "      <td>856</td>\n",
              "      <td>1</td>\n",
              "      <td>0</td>\n",
              "      <td>0</td>\n",
              "      <td>0</td>\n",
              "      <td>0</td>\n",
              "    </tr>\n",
              "    <tr>\n",
              "      <th>4</th>\n",
              "      <td>0</td>\n",
              "      <td>0</td>\n",
              "      <td>0</td>\n",
              "      <td>0</td>\n",
              "      <td>37</td>\n",
              "      <td>1</td>\n",
              "      <td>1</td>\n",
              "      <td>1</td>\n",
              "      <td>0</td>\n",
              "      <td>0</td>\n",
              "      <td>1208</td>\n",
              "      <td>3696</td>\n",
              "      <td>1</td>\n",
              "      <td>0</td>\n",
              "      <td>0</td>\n",
              "      <td>1</td>\n",
              "      <td>1</td>\n",
              "    </tr>\n",
              "  </tbody>\n",
              "</table>\n",
              "</div>\n",
              "      <button class=\"colab-df-convert\" onclick=\"convertToInteractive('df-2aaf0b5f-099c-44ed-aaf8-afee2465039c')\"\n",
              "              title=\"Convert this dataframe to an interactive table.\"\n",
              "              style=\"display:none;\">\n",
              "        \n",
              "  <svg xmlns=\"http://www.w3.org/2000/svg\" height=\"24px\"viewBox=\"0 0 24 24\"\n",
              "       width=\"24px\">\n",
              "    <path d=\"M0 0h24v24H0V0z\" fill=\"none\"/>\n",
              "    <path d=\"M18.56 5.44l.94 2.06.94-2.06 2.06-.94-2.06-.94-.94-2.06-.94 2.06-2.06.94zm-11 1L8.5 8.5l.94-2.06 2.06-.94-2.06-.94L8.5 2.5l-.94 2.06-2.06.94zm10 10l.94 2.06.94-2.06 2.06-.94-2.06-.94-.94-2.06-.94 2.06-2.06.94z\"/><path d=\"M17.41 7.96l-1.37-1.37c-.4-.4-.92-.59-1.43-.59-.52 0-1.04.2-1.43.59L10.3 9.45l-7.72 7.72c-.78.78-.78 2.05 0 2.83L4 21.41c.39.39.9.59 1.41.59.51 0 1.02-.2 1.41-.59l7.78-7.78 2.81-2.81c.8-.78.8-2.07 0-2.86zM5.41 20L4 18.59l7.72-7.72 1.47 1.35L5.41 20z\"/>\n",
              "  </svg>\n",
              "      </button>\n",
              "      \n",
              "  <style>\n",
              "    .colab-df-container {\n",
              "      display:flex;\n",
              "      flex-wrap:wrap;\n",
              "      gap: 12px;\n",
              "    }\n",
              "\n",
              "    .colab-df-convert {\n",
              "      background-color: #E8F0FE;\n",
              "      border: none;\n",
              "      border-radius: 50%;\n",
              "      cursor: pointer;\n",
              "      display: none;\n",
              "      fill: #1967D2;\n",
              "      height: 32px;\n",
              "      padding: 0 0 0 0;\n",
              "      width: 32px;\n",
              "    }\n",
              "\n",
              "    .colab-df-convert:hover {\n",
              "      background-color: #E2EBFA;\n",
              "      box-shadow: 0px 1px 2px rgba(60, 64, 67, 0.3), 0px 1px 3px 1px rgba(60, 64, 67, 0.15);\n",
              "      fill: #174EA6;\n",
              "    }\n",
              "\n",
              "    [theme=dark] .colab-df-convert {\n",
              "      background-color: #3B4455;\n",
              "      fill: #D2E3FC;\n",
              "    }\n",
              "\n",
              "    [theme=dark] .colab-df-convert:hover {\n",
              "      background-color: #434B5C;\n",
              "      box-shadow: 0px 1px 3px 1px rgba(0, 0, 0, 0.15);\n",
              "      filter: drop-shadow(0px 1px 2px rgba(0, 0, 0, 0.3));\n",
              "      fill: #FFFFFF;\n",
              "    }\n",
              "  </style>\n",
              "\n",
              "      <script>\n",
              "        const buttonEl =\n",
              "          document.querySelector('#df-2aaf0b5f-099c-44ed-aaf8-afee2465039c button.colab-df-convert');\n",
              "        buttonEl.style.display =\n",
              "          google.colab.kernel.accessAllowed ? 'block' : 'none';\n",
              "\n",
              "        async function convertToInteractive(key) {\n",
              "          const element = document.querySelector('#df-2aaf0b5f-099c-44ed-aaf8-afee2465039c');\n",
              "          const dataTable =\n",
              "            await google.colab.kernel.invokeFunction('convertToInteractive',\n",
              "                                                     [key], {});\n",
              "          if (!dataTable) return;\n",
              "\n",
              "          const docLinkHtml = 'Like what you see? Visit the ' +\n",
              "            '<a target=\"_blank\" href=https://colab.research.google.com/notebooks/data_table.ipynb>data table notebook</a>'\n",
              "            + ' to learn more about interactive tables.';\n",
              "          element.innerHTML = '';\n",
              "          dataTable['output_type'] = 'display_data';\n",
              "          await google.colab.output.renderOutput(dataTable, element);\n",
              "          const docLink = document.createElement('div');\n",
              "          docLink.innerHTML = docLinkHtml;\n",
              "          element.appendChild(docLink);\n",
              "        }\n",
              "      </script>\n",
              "    </div>\n",
              "  </div>\n",
              "  "
            ]
          },
          "metadata": {},
          "execution_count": 81
        }
      ]
    },
    {
      "cell_type": "code",
      "source": [
        "# Export to R Studio for modelling\n",
        "new_df.to_csv(\"./no_outliers.csv\")\n",
        "df.to_csv(\"./with_outliers.csv\")"
      ],
      "metadata": {
        "id": "H0Bbzsc07eD8"
      },
      "execution_count": 80,
      "outputs": []
    },
    {
      "cell_type": "markdown",
      "source": [
        "Finding Associations"
      ],
      "metadata": {
        "id": "mRy_ZDw5xuOj"
      }
    },
    {
      "cell_type": "code",
      "source": [],
      "metadata": {
        "id": "C9jfnOvExtjR"
      },
      "execution_count": null,
      "outputs": []
    },
    {
      "cell_type": "markdown",
      "source": [
        "Note: Data Modelling (in R)"
      ],
      "metadata": {
        "id": "809S1TLox2Jh"
      }
    }
  ],
  "metadata": {
    "colab": {
      "provenance": []
    },
    "kernelspec": {
      "display_name": "Python 3",
      "name": "python3"
    },
    "language_info": {
      "name": "python"
    }
  },
  "nbformat": 4,
  "nbformat_minor": 0
}