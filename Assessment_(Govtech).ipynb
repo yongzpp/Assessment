{
  "cells": [
    {
      "cell_type": "markdown",
      "source": [
        "# Assessment\n"
      ],
      "metadata": {
        "id": "cUx79HQMve3x"
      }
    },
    {
      "cell_type": "code",
      "execution_count": 1,
      "metadata": {
        "colab": {
          "base_uri": "https://localhost:8080/"
        },
        "id": "QqlhZyzuPKuO",
        "outputId": "d0074892-839b-4d43-8f67-e0aed6ca447f"
      },
      "outputs": [
        {
          "output_type": "stream",
          "name": "stdout",
          "text": [
            "Mounted at /content/gdrive\n"
          ]
        }
      ],
      "source": [
        "from google.colab import drive\n",
        "drive.mount('/content/gdrive')"
      ]
    },
    {
      "cell_type": "code",
      "execution_count": 2,
      "metadata": {
        "id": "9LDWPRDgN7AS"
      },
      "outputs": [],
      "source": [
        "import os\n",
        "os.chdir('/content/gdrive/My Drive')"
      ]
    },
    {
      "cell_type": "code",
      "source": [
        "# Import required packages\n",
        "import pandas as pd\n",
        "import numpy as np\n",
        "import matplotlib.pyplot as plt\n",
        "from sklearn import preprocessing\n",
        "\n",
        "# !apt install mongodb >log\n",
        "# !service mongodb start\n",
        "import pymongo\n",
        "from pymongo import MongoClient"
      ],
      "metadata": {
        "id": "DVgh7Cz_NItD"
      },
      "execution_count": 3,
      "outputs": []
    },
    {
      "cell_type": "markdown",
      "source": [
        "### Task 2"
      ],
      "metadata": {
        "id": "Gg4N_9feuzXW"
      }
    },
    {
      "cell_type": "code",
      "execution_count": 4,
      "metadata": {
        "colab": {
          "base_uri": "https://localhost:8080/",
          "height": 206
        },
        "id": "_WxRp1jaN7qF",
        "outputId": "809197ed-3b3c-414b-a3b8-c9c58fa3b035"
      },
      "outputs": [
        {
          "output_type": "execute_result",
          "data": {
            "text/plain": [
              "   insuree# gender  is45OrOlder isMarried hasKids  insuredMonths  \\\n",
              "0         1      F          0.0       Yes     Yes             23   \n",
              "1         2      F          1.0        No      No             42   \n",
              "2         3      F          0.0       Yes      No             72   \n",
              "3         4      F          0.0       Yes     Yes             13   \n",
              "4         5      F          0.0        No      No             37   \n",
              "\n",
              "  termLifeInsurance multipleTermLifePolicies healthInsurance healthRiders  \\\n",
              "0               Yes                       No              No          NaN   \n",
              "1               Yes                      Yes         Class A            3   \n",
              "2               Yes                       No              No          NaN   \n",
              "3               Yes                       No              No          NaN   \n",
              "4               Yes                      Yes         Class A          3,4   \n",
              "\n",
              "   premiumFrequency eStatements monthlyPremium totalPremium renewal  \n",
              "0              12.0         Yes          19,65       451,55       Y  \n",
              "1               1.0         Yes          84,65      3541,35       N  \n",
              "2              12.0          No           19,4      1496,45       Y  \n",
              "3              12.0          No          19,55        265,3       Y  \n",
              "4               1.0          No          100,3       3541,4       Y  "
            ],
            "text/html": [
              "\n",
              "  <div id=\"df-974d256e-4c84-4990-9d2c-45790a58897f\">\n",
              "    <div class=\"colab-df-container\">\n",
              "      <div>\n",
              "<style scoped>\n",
              "    .dataframe tbody tr th:only-of-type {\n",
              "        vertical-align: middle;\n",
              "    }\n",
              "\n",
              "    .dataframe tbody tr th {\n",
              "        vertical-align: top;\n",
              "    }\n",
              "\n",
              "    .dataframe thead th {\n",
              "        text-align: right;\n",
              "    }\n",
              "</style>\n",
              "<table border=\"1\" class=\"dataframe\">\n",
              "  <thead>\n",
              "    <tr style=\"text-align: right;\">\n",
              "      <th></th>\n",
              "      <th>insuree#</th>\n",
              "      <th>gender</th>\n",
              "      <th>is45OrOlder</th>\n",
              "      <th>isMarried</th>\n",
              "      <th>hasKids</th>\n",
              "      <th>insuredMonths</th>\n",
              "      <th>termLifeInsurance</th>\n",
              "      <th>multipleTermLifePolicies</th>\n",
              "      <th>healthInsurance</th>\n",
              "      <th>healthRiders</th>\n",
              "      <th>premiumFrequency</th>\n",
              "      <th>eStatements</th>\n",
              "      <th>monthlyPremium</th>\n",
              "      <th>totalPremium</th>\n",
              "      <th>renewal</th>\n",
              "    </tr>\n",
              "  </thead>\n",
              "  <tbody>\n",
              "    <tr>\n",
              "      <th>0</th>\n",
              "      <td>1</td>\n",
              "      <td>F</td>\n",
              "      <td>0.0</td>\n",
              "      <td>Yes</td>\n",
              "      <td>Yes</td>\n",
              "      <td>23</td>\n",
              "      <td>Yes</td>\n",
              "      <td>No</td>\n",
              "      <td>No</td>\n",
              "      <td>NaN</td>\n",
              "      <td>12.0</td>\n",
              "      <td>Yes</td>\n",
              "      <td>19,65</td>\n",
              "      <td>451,55</td>\n",
              "      <td>Y</td>\n",
              "    </tr>\n",
              "    <tr>\n",
              "      <th>1</th>\n",
              "      <td>2</td>\n",
              "      <td>F</td>\n",
              "      <td>1.0</td>\n",
              "      <td>No</td>\n",
              "      <td>No</td>\n",
              "      <td>42</td>\n",
              "      <td>Yes</td>\n",
              "      <td>Yes</td>\n",
              "      <td>Class A</td>\n",
              "      <td>3</td>\n",
              "      <td>1.0</td>\n",
              "      <td>Yes</td>\n",
              "      <td>84,65</td>\n",
              "      <td>3541,35</td>\n",
              "      <td>N</td>\n",
              "    </tr>\n",
              "    <tr>\n",
              "      <th>2</th>\n",
              "      <td>3</td>\n",
              "      <td>F</td>\n",
              "      <td>0.0</td>\n",
              "      <td>Yes</td>\n",
              "      <td>No</td>\n",
              "      <td>72</td>\n",
              "      <td>Yes</td>\n",
              "      <td>No</td>\n",
              "      <td>No</td>\n",
              "      <td>NaN</td>\n",
              "      <td>12.0</td>\n",
              "      <td>No</td>\n",
              "      <td>19,4</td>\n",
              "      <td>1496,45</td>\n",
              "      <td>Y</td>\n",
              "    </tr>\n",
              "    <tr>\n",
              "      <th>3</th>\n",
              "      <td>4</td>\n",
              "      <td>F</td>\n",
              "      <td>0.0</td>\n",
              "      <td>Yes</td>\n",
              "      <td>Yes</td>\n",
              "      <td>13</td>\n",
              "      <td>Yes</td>\n",
              "      <td>No</td>\n",
              "      <td>No</td>\n",
              "      <td>NaN</td>\n",
              "      <td>12.0</td>\n",
              "      <td>No</td>\n",
              "      <td>19,55</td>\n",
              "      <td>265,3</td>\n",
              "      <td>Y</td>\n",
              "    </tr>\n",
              "    <tr>\n",
              "      <th>4</th>\n",
              "      <td>5</td>\n",
              "      <td>F</td>\n",
              "      <td>0.0</td>\n",
              "      <td>No</td>\n",
              "      <td>No</td>\n",
              "      <td>37</td>\n",
              "      <td>Yes</td>\n",
              "      <td>Yes</td>\n",
              "      <td>Class A</td>\n",
              "      <td>3,4</td>\n",
              "      <td>1.0</td>\n",
              "      <td>No</td>\n",
              "      <td>100,3</td>\n",
              "      <td>3541,4</td>\n",
              "      <td>Y</td>\n",
              "    </tr>\n",
              "  </tbody>\n",
              "</table>\n",
              "</div>\n",
              "      <button class=\"colab-df-convert\" onclick=\"convertToInteractive('df-974d256e-4c84-4990-9d2c-45790a58897f')\"\n",
              "              title=\"Convert this dataframe to an interactive table.\"\n",
              "              style=\"display:none;\">\n",
              "        \n",
              "  <svg xmlns=\"http://www.w3.org/2000/svg\" height=\"24px\"viewBox=\"0 0 24 24\"\n",
              "       width=\"24px\">\n",
              "    <path d=\"M0 0h24v24H0V0z\" fill=\"none\"/>\n",
              "    <path d=\"M18.56 5.44l.94 2.06.94-2.06 2.06-.94-2.06-.94-.94-2.06-.94 2.06-2.06.94zm-11 1L8.5 8.5l.94-2.06 2.06-.94-2.06-.94L8.5 2.5l-.94 2.06-2.06.94zm10 10l.94 2.06.94-2.06 2.06-.94-2.06-.94-.94-2.06-.94 2.06-2.06.94z\"/><path d=\"M17.41 7.96l-1.37-1.37c-.4-.4-.92-.59-1.43-.59-.52 0-1.04.2-1.43.59L10.3 9.45l-7.72 7.72c-.78.78-.78 2.05 0 2.83L4 21.41c.39.39.9.59 1.41.59.51 0 1.02-.2 1.41-.59l7.78-7.78 2.81-2.81c.8-.78.8-2.07 0-2.86zM5.41 20L4 18.59l7.72-7.72 1.47 1.35L5.41 20z\"/>\n",
              "  </svg>\n",
              "      </button>\n",
              "      \n",
              "  <style>\n",
              "    .colab-df-container {\n",
              "      display:flex;\n",
              "      flex-wrap:wrap;\n",
              "      gap: 12px;\n",
              "    }\n",
              "\n",
              "    .colab-df-convert {\n",
              "      background-color: #E8F0FE;\n",
              "      border: none;\n",
              "      border-radius: 50%;\n",
              "      cursor: pointer;\n",
              "      display: none;\n",
              "      fill: #1967D2;\n",
              "      height: 32px;\n",
              "      padding: 0 0 0 0;\n",
              "      width: 32px;\n",
              "    }\n",
              "\n",
              "    .colab-df-convert:hover {\n",
              "      background-color: #E2EBFA;\n",
              "      box-shadow: 0px 1px 2px rgba(60, 64, 67, 0.3), 0px 1px 3px 1px rgba(60, 64, 67, 0.15);\n",
              "      fill: #174EA6;\n",
              "    }\n",
              "\n",
              "    [theme=dark] .colab-df-convert {\n",
              "      background-color: #3B4455;\n",
              "      fill: #D2E3FC;\n",
              "    }\n",
              "\n",
              "    [theme=dark] .colab-df-convert:hover {\n",
              "      background-color: #434B5C;\n",
              "      box-shadow: 0px 1px 3px 1px rgba(0, 0, 0, 0.15);\n",
              "      filter: drop-shadow(0px 1px 2px rgba(0, 0, 0, 0.3));\n",
              "      fill: #FFFFFF;\n",
              "    }\n",
              "  </style>\n",
              "\n",
              "      <script>\n",
              "        const buttonEl =\n",
              "          document.querySelector('#df-974d256e-4c84-4990-9d2c-45790a58897f button.colab-df-convert');\n",
              "        buttonEl.style.display =\n",
              "          google.colab.kernel.accessAllowed ? 'block' : 'none';\n",
              "\n",
              "        async function convertToInteractive(key) {\n",
              "          const element = document.querySelector('#df-974d256e-4c84-4990-9d2c-45790a58897f');\n",
              "          const dataTable =\n",
              "            await google.colab.kernel.invokeFunction('convertToInteractive',\n",
              "                                                     [key], {});\n",
              "          if (!dataTable) return;\n",
              "\n",
              "          const docLinkHtml = 'Like what you see? Visit the ' +\n",
              "            '<a target=\"_blank\" href=https://colab.research.google.com/notebooks/data_table.ipynb>data table notebook</a>'\n",
              "            + ' to learn more about interactive tables.';\n",
              "          element.innerHTML = '';\n",
              "          dataTable['output_type'] = 'display_data';\n",
              "          await google.colab.output.renderOutput(dataTable, element);\n",
              "          const docLink = document.createElement('div');\n",
              "          docLink.innerHTML = docLinkHtml;\n",
              "          element.appendChild(docLink);\n",
              "        }\n",
              "      </script>\n",
              "    </div>\n",
              "  </div>\n",
              "  "
            ]
          },
          "metadata": {},
          "execution_count": 4
        }
      ],
      "source": [
        "import pandas as pd\n",
        "df = pd.read_csv('insurance_data.csv', sep=';')\n",
        "df.head()"
      ]
    },
    {
      "cell_type": "code",
      "source": [
        "# Check for missing values in (%)\n",
        "for i in df.columns:\n",
        "    if df[i].isnull().sum():\n",
        "        print(str(i) + \": \" + str(df[i].isnull().sum()/len(df)*100))"
      ],
      "metadata": {
        "colab": {
          "base_uri": "https://localhost:8080/"
        },
        "id": "-AwD5-iWZEFt",
        "outputId": "1b9f20bb-6fcb-4783-aa4d-931fc04fdbad"
      },
      "execution_count": 5,
      "outputs": [
        {
          "output_type": "stream",
          "name": "stdout",
          "text": [
            "gender: 2.0545454545454542\n",
            "is45OrOlder: 1.7454545454545456\n",
            "healthRiders: 36.03636363636364\n",
            "premiumFrequency: 2.0727272727272728\n"
          ]
        }
      ]
    },
    {
      "cell_type": "code",
      "source": [
        "# Check the unique values in columns to replace dirty inputs\n",
        "for i in df.columns:\n",
        "    print(i + \":\")\n",
        "    print(df[i].unique())"
      ],
      "metadata": {
        "colab": {
          "base_uri": "https://localhost:8080/"
        },
        "id": "BeQU95swdl0A",
        "outputId": "8407be9f-4bcc-4e7f-ca28-a3c1b302d462"
      },
      "execution_count": 6,
      "outputs": [
        {
          "output_type": "stream",
          "name": "stdout",
          "text": [
            "insuree#:\n",
            "[   1    2    3 ... 5498 5499 5500]\n",
            "gender:\n",
            "['F' 'M' nan]\n",
            "is45OrOlder:\n",
            "[ 0.  1. nan]\n",
            "isMarried:\n",
            "['Yes' 'No']\n",
            "hasKids:\n",
            "['Yes' 'No']\n",
            "insuredMonths:\n",
            "[ 23  42  72  13  37   3  24  31   1  57   6   7  65  40  18  15   2   4\n",
            "  69   0  59  16  66  27  29  11  61  39  41  62  70  56  30  22  71  54\n",
            "  20  26  55  51   5  58  32 170  12  67  14  43  33  60  25   9  45  21\n",
            "  19  36  44  34   8  53  52  46  17  50  63  10  35  68  38  49  64  48\n",
            " 130 410  47  28 670 720 610 180 550 160 430 340 710 520 230 690 220 420\n",
            " 460 700 240 620  80 600 320 260 470]\n",
            "termLifeInsurance:\n",
            "['Yes' 'No']\n",
            "multipleTermLifePolicies:\n",
            "['No' 'Yes' 'no term life policy taken' 'term life policy not taken']\n",
            "healthInsurance:\n",
            "['No' 'Class A' 'Class B']\n",
            "healthRiders:\n",
            "[nan '3' '3,4' '2' '1' '2,3,4' '1,2,3,4' '2,4' '1,2,4' '1,4' '1,2' '1,2,3'\n",
            " '1,3,4' '1,3' '4' '2,3']\n",
            "premiumFrequency:\n",
            "[12.  1.  3. nan]\n",
            "eStatements:\n",
            "['Yes' 'No']\n",
            "monthlyPremium:\n",
            "['19,65' '84,65' '19,4' ... '112,25' '83,6' '73,5']\n",
            "totalPremium:\n",
            "['451,55' '3541,35' '1496,45' ... '4557,5' '1090,6' '393,15']\n",
            "renewal:\n",
            "['Y' 'N']\n"
          ]
        }
      ]
    },
    {
      "cell_type": "code",
      "source": [
        "# Check current data types of each columns\n",
        "for i in df.columns:\n",
        "    print(i + \": \" + str(df[i].dtypes))"
      ],
      "metadata": {
        "colab": {
          "base_uri": "https://localhost:8080/"
        },
        "id": "7B5Vx2YV7dp2",
        "outputId": "8e0b4f9b-f5ed-4ccd-dbf7-991c79e15690"
      },
      "execution_count": 7,
      "outputs": [
        {
          "output_type": "stream",
          "name": "stdout",
          "text": [
            "insuree#: int64\n",
            "gender: object\n",
            "is45OrOlder: float64\n",
            "isMarried: object\n",
            "hasKids: object\n",
            "insuredMonths: int64\n",
            "termLifeInsurance: object\n",
            "multipleTermLifePolicies: object\n",
            "healthInsurance: object\n",
            "healthRiders: object\n",
            "premiumFrequency: float64\n",
            "eStatements: object\n",
            "monthlyPremium: object\n",
            "totalPremium: object\n",
            "renewal: object\n"
          ]
        }
      ]
    },
    {
      "cell_type": "code",
      "source": [
        "# Converting data types where appropriate\n",
        "df['is45OrOlder'] = df['is45OrOlder'].astype('bool')\n",
        "\n",
        "df['isMarried'] = df['isMarried'].apply(lambda x: 1 if x==\"Yes\" else 0)\n",
        "df['isMarried'] = df['isMarried'].astype('bool')\n",
        "\n",
        "df['hasKids'] = df['hasKids'].apply(lambda x: 1 if x==\"Yes\" else 0)\n",
        "df['hasKids'] = df['hasKids'].astype('bool')\n",
        "\n",
        "df['termLifeInsurance'] = df['termLifeInsurance'].apply(lambda x: 1 if x==\"Yes\" else 0)\n",
        "df['termLifeInsurance'] = df['termLifeInsurance'].astype('bool')\n",
        "\n",
        "df['multipleTermLifePolicies'] = np.where(df['multipleTermLifePolicies']=='no term life policy taken', \"No\", df['multipleTermLifePolicies'])\n",
        "df['multipleTermLifePolicies'] = np.where(df['multipleTermLifePolicies']=='term life policy not taken', \"No\", df['multipleTermLifePolicies'])\n",
        "df['multipleTermLifePolicies'] = df['multipleTermLifePolicies'].apply(lambda x: 1 if x==\"Yes\" else 0)\n",
        "df['multipleTermLifePolicies'] = df['multipleTermLifePolicies'].astype('bool')\n",
        "\n",
        "df['healthInsurance'] = df['healthInsurance'].apply(lambda x: 0 if x==\"No\" else 1)\n",
        "df['healthInsurance'] = df['healthInsurance'].astype('bool')\n",
        "\n",
        "df['premiumFrequency'].fillna(0, inplace = True)\n",
        "df['premiumFrequency'] = df['premiumFrequency'].astype('Int64')\n",
        "\n",
        "df['eStatements'] = df['eStatements'].apply(lambda x: 1 if x==\"Yes\" else 0)\n",
        "df['eStatements'] = df['eStatements'].astype('bool')\n",
        "\n",
        "# Replace , with . to denote decimal points in amounts. Could not find better explanation from data source.\n",
        "df['monthlyPremium'] = df['monthlyPremium'].str.replace(',','.')\n",
        "df['monthlyPremium'] = df['monthlyPremium'].astype('float64')\n",
        "\n",
        "# Replace , with . to denote decimal points in amounts. Could not find better explanation from data source.\n",
        "df['totalPremium'] = df['totalPremium'].str.replace(',','.')\n",
        "df['totalPremium'] = df['totalPremium'].str.replace(',','.')\n",
        "df['totalPremium'] = np.where(df['totalPremium']==\" \", 0, df['totalPremium'])\n",
        "df['totalPremium'] = df['totalPremium'].astype('float64')\n",
        "\n",
        "df['renewal'] = df['renewal'].apply(lambda x: 1 if x==\"Y\" else 0)\n",
        "df['renewal'] = df['renewal'].astype('bool')\n",
        "\n",
        "# Convert to list of integers\n",
        "df['healthRiders'] = df['healthRiders'].str.split(\",\")\n",
        "df['healthRiders'] = df['healthRiders'].apply(lambda x: [int(i) for i in x] if type(x) != float else x)"
      ],
      "metadata": {
        "id": "Yub64fTP7ds3"
      },
      "execution_count": 8,
      "outputs": []
    },
    {
      "cell_type": "code",
      "source": [
        "# Check the types matches description\n",
        "for i in df.columns:\n",
        "    print(i + \": \" + str(df[i].dtypes))"
      ],
      "metadata": {
        "colab": {
          "base_uri": "https://localhost:8080/"
        },
        "id": "B3lhp8c27dvX",
        "outputId": "b0301ccb-b3ec-4ac4-dcc3-c93577d53495"
      },
      "execution_count": 9,
      "outputs": [
        {
          "output_type": "stream",
          "name": "stdout",
          "text": [
            "insuree#: int64\n",
            "gender: object\n",
            "is45OrOlder: bool\n",
            "isMarried: bool\n",
            "hasKids: bool\n",
            "insuredMonths: int64\n",
            "termLifeInsurance: bool\n",
            "multipleTermLifePolicies: bool\n",
            "healthInsurance: bool\n",
            "healthRiders: object\n",
            "premiumFrequency: Int64\n",
            "eStatements: bool\n",
            "monthlyPremium: float64\n",
            "totalPremium: float64\n",
            "renewal: bool\n"
          ]
        }
      ]
    },
    {
      "cell_type": "code",
      "source": [
        "# Set up the connection\n",
        "client = MongoClient()\n",
        "db = client[\"insurance_data\"]\n",
        "my_collection = db[\"insurance_data\"]\n",
        "\n",
        "# Set up nested dictionary\n",
        "data_dict = df.to_dict(\"records\")\n",
        "for i in range(len(data_dict)):\n",
        "    data_dict[i][\"termLifeInsurance\"] = {\"hasPolicy\": data_dict[i][\"termLifeInsurance\"], \"hasMultiplePolcies\": data_dict[i][\"multipleTermLifePolicies\"]}\n",
        "    data_dict[i][\"healthInsurance\"] = {\"hasPolicy\": data_dict[i][\"healthInsurance\"], \"riders\": data_dict[i][\"healthRiders\"]}\n",
        "    del data_dict[i]['multipleTermLifePolicies']\n",
        "    del data_dict[i]['healthRiders']\n",
        "\n",
        "# Push to mongodb\n",
        "my_collection.insert_many(data_dict)"
      ],
      "metadata": {
        "colab": {
          "base_uri": "https://localhost:8080/"
        },
        "id": "orTc9mB27dx7",
        "outputId": "f3906000-d034-4474-b130-78d8910a2b21"
      },
      "execution_count": 11,
      "outputs": [
        {
          "output_type": "execute_result",
          "data": {
            "text/plain": [
              "<pymongo.results.InsertManyResult at 0x7f1ef444c550>"
            ]
          },
          "metadata": {},
          "execution_count": 11
        }
      ]
    },
    {
      "cell_type": "markdown",
      "source": [
        "### Task 1"
      ],
      "metadata": {
        "id": "gsmLvz97ZXCG"
      }
    },
    {
      "cell_type": "code",
      "source": [
        "# ; is used as delimiter insetad of usual comma\n",
        "df = pd.read_csv('insurance_data.csv', sep=';')\n",
        "df.head()"
      ],
      "metadata": {
        "colab": {
          "base_uri": "https://localhost:8080/",
          "height": 206
        },
        "id": "dxsQYJsncm6z",
        "outputId": "ec065d2e-603e-4bb8-be08-f51548882798"
      },
      "execution_count": 42,
      "outputs": [
        {
          "output_type": "execute_result",
          "data": {
            "text/plain": [
              "   insuree# gender  is45OrOlder isMarried hasKids  insuredMonths  \\\n",
              "0         1      F          0.0       Yes     Yes             23   \n",
              "1         2      F          1.0        No      No             42   \n",
              "2         3      F          0.0       Yes      No             72   \n",
              "3         4      F          0.0       Yes     Yes             13   \n",
              "4         5      F          0.0        No      No             37   \n",
              "\n",
              "  termLifeInsurance multipleTermLifePolicies healthInsurance healthRiders  \\\n",
              "0               Yes                       No              No          NaN   \n",
              "1               Yes                      Yes         Class A            3   \n",
              "2               Yes                       No              No          NaN   \n",
              "3               Yes                       No              No          NaN   \n",
              "4               Yes                      Yes         Class A          3,4   \n",
              "\n",
              "   premiumFrequency eStatements monthlyPremium totalPremium renewal  \n",
              "0              12.0         Yes          19,65       451,55       Y  \n",
              "1               1.0         Yes          84,65      3541,35       N  \n",
              "2              12.0          No           19,4      1496,45       Y  \n",
              "3              12.0          No          19,55        265,3       Y  \n",
              "4               1.0          No          100,3       3541,4       Y  "
            ],
            "text/html": [
              "\n",
              "  <div id=\"df-7fa0b924-22d8-48a2-a75f-9aaf30b051d4\">\n",
              "    <div class=\"colab-df-container\">\n",
              "      <div>\n",
              "<style scoped>\n",
              "    .dataframe tbody tr th:only-of-type {\n",
              "        vertical-align: middle;\n",
              "    }\n",
              "\n",
              "    .dataframe tbody tr th {\n",
              "        vertical-align: top;\n",
              "    }\n",
              "\n",
              "    .dataframe thead th {\n",
              "        text-align: right;\n",
              "    }\n",
              "</style>\n",
              "<table border=\"1\" class=\"dataframe\">\n",
              "  <thead>\n",
              "    <tr style=\"text-align: right;\">\n",
              "      <th></th>\n",
              "      <th>insuree#</th>\n",
              "      <th>gender</th>\n",
              "      <th>is45OrOlder</th>\n",
              "      <th>isMarried</th>\n",
              "      <th>hasKids</th>\n",
              "      <th>insuredMonths</th>\n",
              "      <th>termLifeInsurance</th>\n",
              "      <th>multipleTermLifePolicies</th>\n",
              "      <th>healthInsurance</th>\n",
              "      <th>healthRiders</th>\n",
              "      <th>premiumFrequency</th>\n",
              "      <th>eStatements</th>\n",
              "      <th>monthlyPremium</th>\n",
              "      <th>totalPremium</th>\n",
              "      <th>renewal</th>\n",
              "    </tr>\n",
              "  </thead>\n",
              "  <tbody>\n",
              "    <tr>\n",
              "      <th>0</th>\n",
              "      <td>1</td>\n",
              "      <td>F</td>\n",
              "      <td>0.0</td>\n",
              "      <td>Yes</td>\n",
              "      <td>Yes</td>\n",
              "      <td>23</td>\n",
              "      <td>Yes</td>\n",
              "      <td>No</td>\n",
              "      <td>No</td>\n",
              "      <td>NaN</td>\n",
              "      <td>12.0</td>\n",
              "      <td>Yes</td>\n",
              "      <td>19,65</td>\n",
              "      <td>451,55</td>\n",
              "      <td>Y</td>\n",
              "    </tr>\n",
              "    <tr>\n",
              "      <th>1</th>\n",
              "      <td>2</td>\n",
              "      <td>F</td>\n",
              "      <td>1.0</td>\n",
              "      <td>No</td>\n",
              "      <td>No</td>\n",
              "      <td>42</td>\n",
              "      <td>Yes</td>\n",
              "      <td>Yes</td>\n",
              "      <td>Class A</td>\n",
              "      <td>3</td>\n",
              "      <td>1.0</td>\n",
              "      <td>Yes</td>\n",
              "      <td>84,65</td>\n",
              "      <td>3541,35</td>\n",
              "      <td>N</td>\n",
              "    </tr>\n",
              "    <tr>\n",
              "      <th>2</th>\n",
              "      <td>3</td>\n",
              "      <td>F</td>\n",
              "      <td>0.0</td>\n",
              "      <td>Yes</td>\n",
              "      <td>No</td>\n",
              "      <td>72</td>\n",
              "      <td>Yes</td>\n",
              "      <td>No</td>\n",
              "      <td>No</td>\n",
              "      <td>NaN</td>\n",
              "      <td>12.0</td>\n",
              "      <td>No</td>\n",
              "      <td>19,4</td>\n",
              "      <td>1496,45</td>\n",
              "      <td>Y</td>\n",
              "    </tr>\n",
              "    <tr>\n",
              "      <th>3</th>\n",
              "      <td>4</td>\n",
              "      <td>F</td>\n",
              "      <td>0.0</td>\n",
              "      <td>Yes</td>\n",
              "      <td>Yes</td>\n",
              "      <td>13</td>\n",
              "      <td>Yes</td>\n",
              "      <td>No</td>\n",
              "      <td>No</td>\n",
              "      <td>NaN</td>\n",
              "      <td>12.0</td>\n",
              "      <td>No</td>\n",
              "      <td>19,55</td>\n",
              "      <td>265,3</td>\n",
              "      <td>Y</td>\n",
              "    </tr>\n",
              "    <tr>\n",
              "      <th>4</th>\n",
              "      <td>5</td>\n",
              "      <td>F</td>\n",
              "      <td>0.0</td>\n",
              "      <td>No</td>\n",
              "      <td>No</td>\n",
              "      <td>37</td>\n",
              "      <td>Yes</td>\n",
              "      <td>Yes</td>\n",
              "      <td>Class A</td>\n",
              "      <td>3,4</td>\n",
              "      <td>1.0</td>\n",
              "      <td>No</td>\n",
              "      <td>100,3</td>\n",
              "      <td>3541,4</td>\n",
              "      <td>Y</td>\n",
              "    </tr>\n",
              "  </tbody>\n",
              "</table>\n",
              "</div>\n",
              "      <button class=\"colab-df-convert\" onclick=\"convertToInteractive('df-7fa0b924-22d8-48a2-a75f-9aaf30b051d4')\"\n",
              "              title=\"Convert this dataframe to an interactive table.\"\n",
              "              style=\"display:none;\">\n",
              "        \n",
              "  <svg xmlns=\"http://www.w3.org/2000/svg\" height=\"24px\"viewBox=\"0 0 24 24\"\n",
              "       width=\"24px\">\n",
              "    <path d=\"M0 0h24v24H0V0z\" fill=\"none\"/>\n",
              "    <path d=\"M18.56 5.44l.94 2.06.94-2.06 2.06-.94-2.06-.94-.94-2.06-.94 2.06-2.06.94zm-11 1L8.5 8.5l.94-2.06 2.06-.94-2.06-.94L8.5 2.5l-.94 2.06-2.06.94zm10 10l.94 2.06.94-2.06 2.06-.94-2.06-.94-.94-2.06-.94 2.06-2.06.94z\"/><path d=\"M17.41 7.96l-1.37-1.37c-.4-.4-.92-.59-1.43-.59-.52 0-1.04.2-1.43.59L10.3 9.45l-7.72 7.72c-.78.78-.78 2.05 0 2.83L4 21.41c.39.39.9.59 1.41.59.51 0 1.02-.2 1.41-.59l7.78-7.78 2.81-2.81c.8-.78.8-2.07 0-2.86zM5.41 20L4 18.59l7.72-7.72 1.47 1.35L5.41 20z\"/>\n",
              "  </svg>\n",
              "      </button>\n",
              "      \n",
              "  <style>\n",
              "    .colab-df-container {\n",
              "      display:flex;\n",
              "      flex-wrap:wrap;\n",
              "      gap: 12px;\n",
              "    }\n",
              "\n",
              "    .colab-df-convert {\n",
              "      background-color: #E8F0FE;\n",
              "      border: none;\n",
              "      border-radius: 50%;\n",
              "      cursor: pointer;\n",
              "      display: none;\n",
              "      fill: #1967D2;\n",
              "      height: 32px;\n",
              "      padding: 0 0 0 0;\n",
              "      width: 32px;\n",
              "    }\n",
              "\n",
              "    .colab-df-convert:hover {\n",
              "      background-color: #E2EBFA;\n",
              "      box-shadow: 0px 1px 2px rgba(60, 64, 67, 0.3), 0px 1px 3px 1px rgba(60, 64, 67, 0.15);\n",
              "      fill: #174EA6;\n",
              "    }\n",
              "\n",
              "    [theme=dark] .colab-df-convert {\n",
              "      background-color: #3B4455;\n",
              "      fill: #D2E3FC;\n",
              "    }\n",
              "\n",
              "    [theme=dark] .colab-df-convert:hover {\n",
              "      background-color: #434B5C;\n",
              "      box-shadow: 0px 1px 3px 1px rgba(0, 0, 0, 0.15);\n",
              "      filter: drop-shadow(0px 1px 2px rgba(0, 0, 0, 0.3));\n",
              "      fill: #FFFFFF;\n",
              "    }\n",
              "  </style>\n",
              "\n",
              "      <script>\n",
              "        const buttonEl =\n",
              "          document.querySelector('#df-7fa0b924-22d8-48a2-a75f-9aaf30b051d4 button.colab-df-convert');\n",
              "        buttonEl.style.display =\n",
              "          google.colab.kernel.accessAllowed ? 'block' : 'none';\n",
              "\n",
              "        async function convertToInteractive(key) {\n",
              "          const element = document.querySelector('#df-7fa0b924-22d8-48a2-a75f-9aaf30b051d4');\n",
              "          const dataTable =\n",
              "            await google.colab.kernel.invokeFunction('convertToInteractive',\n",
              "                                                     [key], {});\n",
              "          if (!dataTable) return;\n",
              "\n",
              "          const docLinkHtml = 'Like what you see? Visit the ' +\n",
              "            '<a target=\"_blank\" href=https://colab.research.google.com/notebooks/data_table.ipynb>data table notebook</a>'\n",
              "            + ' to learn more about interactive tables.';\n",
              "          element.innerHTML = '';\n",
              "          dataTable['output_type'] = 'display_data';\n",
              "          await google.colab.output.renderOutput(dataTable, element);\n",
              "          const docLink = document.createElement('div');\n",
              "          docLink.innerHTML = docLinkHtml;\n",
              "          element.appendChild(docLink);\n",
              "        }\n",
              "      </script>\n",
              "    </div>\n",
              "  </div>\n",
              "  "
            ]
          },
          "metadata": {},
          "execution_count": 42
        }
      ]
    },
    {
      "cell_type": "markdown",
      "source": [
        "Data Preprocessing"
      ],
      "metadata": {
        "id": "XSuMvEOlVXNT"
      }
    },
    {
      "cell_type": "code",
      "source": [
        "# Check for missing values in (%)\n",
        "for i in df.columns:\n",
        "    if df[i].isnull().sum():\n",
        "        print(str(i) + \": \" + str(df[i].isnull().sum()/len(df)*100))"
      ],
      "metadata": {
        "colab": {
          "base_uri": "https://localhost:8080/"
        },
        "id": "3yGWgdLwP4kX",
        "outputId": "a09c0799-f663-4e63-b720-208dc964b843"
      },
      "execution_count": 43,
      "outputs": [
        {
          "output_type": "stream",
          "name": "stdout",
          "text": [
            "gender: 2.0545454545454542\n",
            "is45OrOlder: 1.7454545454545456\n",
            "healthRiders: 36.03636363636364\n",
            "premiumFrequency: 2.0727272727272728\n"
          ]
        }
      ]
    },
    {
      "cell_type": "code",
      "source": [
        "# Fill in missing values\n",
        "\n",
        "# With more gender pronouns today, people may not identify to M or F, hence we label them as Others\n",
        "df['gender'].fillna(\"Others\", inplace = True)\n",
        "# Percentages of missing values are low, and 45 or older is proportionally much smaller than 45 or younger, we follow the majority\n",
        "df['is45OrOlder'].fillna(df['is45OrOlder'].mode()[0], inplace = True)\n",
        "# Percentages of missing values are low, we assume most people will follow the most popular premium frequency plan\n",
        "df['premiumFrequency'].fillna(df['premiumFrequency'].mode()[0], inplace = True)"
      ],
      "metadata": {
        "id": "TjfJGJVlQBcp"
      },
      "execution_count": 44,
      "outputs": []
    },
    {
      "cell_type": "code",
      "source": [
        "# Check the unique values in non integer or float columns to replace dirty inputs\n",
        "for i in df.columns:\n",
        "    if df[i].dtypes == \"bool\" or df[i].dtypes == \"object\":\n",
        "        print(i + \":\")\n",
        "        print(df[i].unique())"
      ],
      "metadata": {
        "colab": {
          "base_uri": "https://localhost:8080/"
        },
        "id": "GHBQrHxFXQ3U",
        "outputId": "4aa23ff2-ba7b-41e1-8ff7-6324a97fc1e0"
      },
      "execution_count": 45,
      "outputs": [
        {
          "output_type": "stream",
          "name": "stdout",
          "text": [
            "gender:\n",
            "['F' 'M' 'Others']\n",
            "isMarried:\n",
            "['Yes' 'No']\n",
            "hasKids:\n",
            "['Yes' 'No']\n",
            "termLifeInsurance:\n",
            "['Yes' 'No']\n",
            "multipleTermLifePolicies:\n",
            "['No' 'Yes' 'no term life policy taken' 'term life policy not taken']\n",
            "healthInsurance:\n",
            "['No' 'Class A' 'Class B']\n",
            "healthRiders:\n",
            "[nan '3' '3,4' '2' '1' '2,3,4' '1,2,3,4' '2,4' '1,2,4' '1,4' '1,2' '1,2,3'\n",
            " '1,3,4' '1,3' '4' '2,3']\n",
            "eStatements:\n",
            "['Yes' 'No']\n",
            "monthlyPremium:\n",
            "['19,65' '84,65' '19,4' ... '112,25' '83,6' '73,5']\n",
            "totalPremium:\n",
            "['451,55' '3541,35' '1496,45' ... '4557,5' '1090,6' '393,15']\n",
            "renewal:\n",
            "['Y' 'N']\n"
          ]
        }
      ]
    },
    {
      "cell_type": "code",
      "source": [
        "# Converting data types where appropriate\n",
        "df['is45OrOlder'] = df['is45OrOlder'].astype('bool')\n",
        "\n",
        "df['isMarried'] = df['isMarried'].apply(lambda x: 1 if x==\"Yes\" else 0)\n",
        "df['isMarried'] = df['isMarried'].astype('bool')\n",
        "\n",
        "df['hasKids'] = df['hasKids'].apply(lambda x: 1 if x==\"Yes\" else 0)\n",
        "df['hasKids'] = df['hasKids'].astype('bool')\n",
        "\n",
        "df['termLifeInsurance'] = df['termLifeInsurance'].apply(lambda x: 1 if x==\"Yes\" else 0)\n",
        "df['termLifeInsurance'] = df['termLifeInsurance'].astype('bool')\n",
        "\n",
        "df['multipleTermLifePolicies'] = np.where(df['multipleTermLifePolicies']=='no term life policy taken', \"No\", df['multipleTermLifePolicies'])\n",
        "df['multipleTermLifePolicies'] = np.where(df['multipleTermLifePolicies']=='term life policy not taken', \"No\", df['multipleTermLifePolicies'])\n",
        "df['multipleTermLifePolicies'] = df['multipleTermLifePolicies'].apply(lambda x: 1 if x==\"Yes\" else 0)\n",
        "df['multipleTermLifePolicies'] = df['multipleTermLifePolicies'].astype('bool')\n",
        "\n",
        "df['healthInsurance'] = df['healthInsurance'].apply(lambda x: 0 if x==\"No\" else 1)\n",
        "df['healthInsurance'] = df['healthInsurance'].astype('bool')\n",
        "\n",
        "# Converted to object (eventually be label encoded as unique int values represents monthly, quaterlly, yearly etc)\n",
        "df['premiumFrequency'] = df['premiumFrequency'].astype('object')\n",
        "\n",
        "df['eStatements'] = df['eStatements'].apply(lambda x: 1 if x==\"Yes\" else 0)\n",
        "df['eStatements'] = df['eStatements'].astype('bool')\n",
        "\n",
        "# Replace , with . to denote decimal points in amounts. Could not find better explanation from data source.\n",
        "df['monthlyPremium'] = df['monthlyPremium'].str.replace(',','.')\n",
        "df['monthlyPremium'] = df['monthlyPremium'].astype('float64')\n",
        "\n",
        "# Replace , with . to denote decimal points in amounts. Could not find better explanation from data source.\n",
        "df['totalPremium'] = df['totalPremium'].str.replace(',','.')\n",
        "df['totalPremium'] = df['totalPremium'].str.replace(',','.')\n",
        "df['totalPremium'] = np.where(df['totalPremium']==\" \", 0, df['totalPremium'])\n",
        "df['totalPremium'] = df['totalPremium'].astype('float64')\n",
        "\n",
        "df['renewal'] = df['renewal'].apply(lambda x: 1 if x==\"Y\" else 0)\n",
        "df['renewal'] = df['renewal'].astype('bool')\n",
        "\n",
        "# Split the list of health riders to dummy columns with 1 representing insuree signing up for rider N, 0 otherwise, where N is 1 to 4.\n",
        "df['healthRiders'] = df['healthRiders'].str.split(\",\")\n",
        "df = df.drop('healthRiders', 1).join(df['healthRiders'].str.join('|').str.get_dummies().astype(\"int64\"))\n",
        "df = df.rename(columns={'1': 'rider1', '2': 'rider2', '3': 'rider3', '4': 'rider4', 'None': 'riderNone'})\n",
        "df['rider1'] = df['rider1'].astype('bool')\n",
        "df['rider2'] = df['rider2'].astype('bool')\n",
        "df['rider3'] = df['rider3'].astype('bool')\n",
        "df['rider4'] = df['rider4'].astype('bool')\n",
        "\n",
        "# Dropped as it is not needed\n",
        "df.drop(columns='insuree#', inplace=True)"
      ],
      "metadata": {
        "colab": {
          "base_uri": "https://localhost:8080/"
        },
        "id": "Vz1vkE9tc3wn",
        "outputId": "05703673-ba41-4ab3-ac1a-5116717efc8b"
      },
      "execution_count": 46,
      "outputs": [
        {
          "output_type": "stream",
          "name": "stderr",
          "text": [
            "/usr/local/lib/python3.7/dist-packages/ipykernel_launcher.py:42: FutureWarning: In a future version of pandas all arguments of DataFrame.drop except for the argument 'labels' will be keyword-only\n"
          ]
        }
      ]
    },
    {
      "cell_type": "code",
      "source": [
        "# Rough distribution of categorical variables\n",
        "plt.figure()\n",
        "fig, ax = plt.subplots(4,4,figsize=(28,24))\n",
        "\n",
        "i = 0\n",
        "for feature in df.columns.values:\n",
        "    if df[feature].dtype == \"object\" or df[feature].dtype == \"bool\":\n",
        "        i += 1\n",
        "        plt.subplot(4,4,i)\n",
        "        df[feature].value_counts(dropna=False).plot(kind=\"bar\")\n",
        "        plt.xlabel(feature, fontsize=12)\n",
        "plt.show()"
      ],
      "metadata": {
        "colab": {
          "base_uri": "https://localhost:8080/",
          "height": 1000
        },
        "id": "Z0fLh3pH7d50",
        "outputId": "f05b1352-5dd4-45d2-e12d-526a4e4b84c2"
      },
      "execution_count": 47,
      "outputs": [
        {
          "output_type": "display_data",
          "data": {
            "text/plain": [
              "<Figure size 432x288 with 0 Axes>"
            ]
          },
          "metadata": {}
        },
        {
          "output_type": "display_data",
          "data": {
            "text/plain": [
              "<Figure size 2016x1728 with 16 Axes>"
            ],
            "image/png": "[encoded data removed]"
          },
          "metadata": {
            "needs_background": "light"
          }
        }
      ]
    },
    {
      "cell_type": "code",
      "source": [
        "# Rough distribution of numerical variables and check for outliers\n",
        "plt.figure()\n",
        "fig, ax = plt.subplots(1,4,figsize=(28,8))\n",
        "\n",
        "i = 0\n",
        "for feature in df.columns.values:\n",
        "    if df[feature].dtype != \"object\" and df[feature].dtype != \"bool\":\n",
        "        i += 1\n",
        "        plt.subplot(1,4,i)\n",
        "        df.boxplot(feature)\n",
        "        plt.xlabel(feature, fontsize=12)\n",
        "plt.show()"
      ],
      "metadata": {
        "colab": {
          "base_uri": "https://localhost:8080/",
          "height": 521
        },
        "id": "S0VO-Dbo7d8g",
        "outputId": "a2b22e4e-cb74-4213-acfe-403683d97136"
      },
      "execution_count": 48,
      "outputs": [
        {
          "output_type": "display_data",
          "data": {
            "text/plain": [
              "<Figure size 432x288 with 0 Axes>"
            ]
          },
          "metadata": {}
        },
        {
          "output_type": "display_data",
          "data": {
            "text/plain": [
              "<Figure size 2016x576 with 4 Axes>"
            ],
            "image/png": "[encoded data removed]"
          },
          "metadata": {
            "needs_background": "light"
          }
        }
      ]
    },
    {
      "cell_type": "code",
      "source": [
        "# Label encode the categorical variables, standardize all the integers\n",
        "dic = {}\n",
        "for i in df.columns:\n",
        "    if df[i].dtype == \"object\" or df[i].dtype == \"bool\":\n",
        "        le = preprocessing.LabelEncoder()\n",
        "        le.fit(df[i])\n",
        "        df[i] = le.transform(df[i])\n",
        "        dic[i] = le.classes_"
      ],
      "metadata": {
        "id": "okrdM9GZ7d_A"
      },
      "execution_count": 49,
      "outputs": []
    },
    {
      "cell_type": "code",
      "source": [
        "print(dic)"
      ],
      "metadata": {
        "colab": {
          "base_uri": "https://localhost:8080/"
        },
        "id": "FSzxo0IXRvUe",
        "outputId": "6ac5a877-f97a-49cd-dccf-2c7879c35efd"
      },
      "execution_count": 50,
      "outputs": [
        {
          "output_type": "stream",
          "name": "stdout",
          "text": [
            "{'gender': array(['F', 'M', 'Others'], dtype=object), 'is45OrOlder': array([False,  True]), 'isMarried': array([False,  True]), 'hasKids': array([False,  True]), 'termLifeInsurance': array([False,  True]), 'multipleTermLifePolicies': array([False,  True]), 'healthInsurance': array([False,  True]), 'premiumFrequency': array([1.0, 3.0, 12.0], dtype=object), 'eStatements': array([False,  True]), 'renewal': array([False,  True]), 'rider1': array([False,  True]), 'rider2': array([False,  True]), 'rider3': array([False,  True]), 'rider4': array([False,  True])}\n"
          ]
        }
      ]
    },
    {
      "cell_type": "code",
      "source": [
        "# Removal of outliers (note all monthlyPremium outliers corresponds to totalPremium outliers)\n",
        "# Rationale being the amounts are significantly larger than the 25% to 75% values, amounts does not seem possible as well.\n",
        "# We will build 2 models one with outlier and another without.\n",
        "# Outliers in insuredMonths left untouched as they seemed reasonable.\n",
        "cols = ['monthlyPremium']\n",
        "Q1 = df[cols].quantile(0.25)\n",
        "Q3 = df[cols].quantile(0.75)\n",
        "IQR = Q3 - Q1\n",
        "new_df = df[~((df[cols] < (Q1 - 1.5 * IQR)) |(df[cols] > (Q3 + 1.5 * IQR))).any(axis=1)]"
      ],
      "metadata": {
        "id": "kxc1CTzhRGy2"
      },
      "execution_count": 51,
      "outputs": []
    },
    {
      "cell_type": "code",
      "source": [
        "new_df.head()"
      ],
      "metadata": {
        "colab": {
          "base_uri": "https://localhost:8080/",
          "height": 206
        },
        "id": "quSAj3Fe7eBm",
        "outputId": "f55b6091-b926-484d-cc2e-a5a313fd0055"
      },
      "execution_count": 52,
      "outputs": [
        {
          "output_type": "execute_result",
          "data": {
            "text/plain": [
              "   gender  is45OrOlder  isMarried  hasKids  insuredMonths  termLifeInsurance  \\\n",
              "0       0            0          1        1             23                  1   \n",
              "1       0            1          0        0             42                  1   \n",
              "2       0            0          1        0             72                  1   \n",
              "3       0            0          1        1             13                  1   \n",
              "4       0            0          0        0             37                  1   \n",
              "\n",
              "   multipleTermLifePolicies  healthInsurance  premiumFrequency  eStatements  \\\n",
              "0                         0                0                 2            1   \n",
              "1                         1                1                 0            1   \n",
              "2                         0                0                 2            0   \n",
              "3                         0                0                 2            0   \n",
              "4                         1                1                 0            0   \n",
              "\n",
              "   monthlyPremium  totalPremium  renewal  rider1  rider2  rider3  rider4  \n",
              "0           19.65        451.55        1       0       0       0       0  \n",
              "1           84.65       3541.35        0       0       0       1       0  \n",
              "2           19.40       1496.45        1       0       0       0       0  \n",
              "3           19.55        265.30        1       0       0       0       0  \n",
              "4          100.30       3541.40        1       0       0       1       1  "
            ],
            "text/html": [
              "\n",
              "  <div id=\"df-73e0fd48-9260-419f-b8b8-905ab1818989\">\n",
              "    <div class=\"colab-df-container\">\n",
              "      <div>\n",
              "<style scoped>\n",
              "    .dataframe tbody tr th:only-of-type {\n",
              "        vertical-align: middle;\n",
              "    }\n",
              "\n",
              "    .dataframe tbody tr th {\n",
              "        vertical-align: top;\n",
              "    }\n",
              "\n",
              "    .dataframe thead th {\n",
              "        text-align: right;\n",
              "    }\n",
              "</style>\n",
              "<table border=\"1\" class=\"dataframe\">\n",
              "  <thead>\n",
              "    <tr style=\"text-align: right;\">\n",
              "      <th></th>\n",
              "      <th>gender</th>\n",
              "      <th>is45OrOlder</th>\n",
              "      <th>isMarried</th>\n",
              "      <th>hasKids</th>\n",
              "      <th>insuredMonths</th>\n",
              "      <th>termLifeInsurance</th>\n",
              "      <th>multipleTermLifePolicies</th>\n",
              "      <th>healthInsurance</th>\n",
              "      <th>premiumFrequency</th>\n",
              "      <th>eStatements</th>\n",
              "      <th>monthlyPremium</th>\n",
              "      <th>totalPremium</th>\n",
              "      <th>renewal</th>\n",
              "      <th>rider1</th>\n",
              "      <th>rider2</th>\n",
              "      <th>rider3</th>\n",
              "      <th>rider4</th>\n",
              "    </tr>\n",
              "  </thead>\n",
              "  <tbody>\n",
              "    <tr>\n",
              "      <th>0</th>\n",
              "      <td>0</td>\n",
              "      <td>0</td>\n",
              "      <td>1</td>\n",
              "      <td>1</td>\n",
              "      <td>23</td>\n",
              "      <td>1</td>\n",
              "      <td>0</td>\n",
              "      <td>0</td>\n",
              "      <td>2</td>\n",
              "      <td>1</td>\n",
              "      <td>19.65</td>\n",
              "      <td>451.55</td>\n",
              "      <td>1</td>\n",
              "      <td>0</td>\n",
              "      <td>0</td>\n",
              "      <td>0</td>\n",
              "      <td>0</td>\n",
              "    </tr>\n",
              "    <tr>\n",
              "      <th>1</th>\n",
              "      <td>0</td>\n",
              "      <td>1</td>\n",
              "      <td>0</td>\n",
              "      <td>0</td>\n",
              "      <td>42</td>\n",
              "      <td>1</td>\n",
              "      <td>1</td>\n",
              "      <td>1</td>\n",
              "      <td>0</td>\n",
              "      <td>1</td>\n",
              "      <td>84.65</td>\n",
              "      <td>3541.35</td>\n",
              "      <td>0</td>\n",
              "      <td>0</td>\n",
              "      <td>0</td>\n",
              "      <td>1</td>\n",
              "      <td>0</td>\n",
              "    </tr>\n",
              "    <tr>\n",
              "      <th>2</th>\n",
              "      <td>0</td>\n",
              "      <td>0</td>\n",
              "      <td>1</td>\n",
              "      <td>0</td>\n",
              "      <td>72</td>\n",
              "      <td>1</td>\n",
              "      <td>0</td>\n",
              "      <td>0</td>\n",
              "      <td>2</td>\n",
              "      <td>0</td>\n",
              "      <td>19.40</td>\n",
              "      <td>1496.45</td>\n",
              "      <td>1</td>\n",
              "      <td>0</td>\n",
              "      <td>0</td>\n",
              "      <td>0</td>\n",
              "      <td>0</td>\n",
              "    </tr>\n",
              "    <tr>\n",
              "      <th>3</th>\n",
              "      <td>0</td>\n",
              "      <td>0</td>\n",
              "      <td>1</td>\n",
              "      <td>1</td>\n",
              "      <td>13</td>\n",
              "      <td>1</td>\n",
              "      <td>0</td>\n",
              "      <td>0</td>\n",
              "      <td>2</td>\n",
              "      <td>0</td>\n",
              "      <td>19.55</td>\n",
              "      <td>265.30</td>\n",
              "      <td>1</td>\n",
              "      <td>0</td>\n",
              "      <td>0</td>\n",
              "      <td>0</td>\n",
              "      <td>0</td>\n",
              "    </tr>\n",
              "    <tr>\n",
              "      <th>4</th>\n",
              "      <td>0</td>\n",
              "      <td>0</td>\n",
              "      <td>0</td>\n",
              "      <td>0</td>\n",
              "      <td>37</td>\n",
              "      <td>1</td>\n",
              "      <td>1</td>\n",
              "      <td>1</td>\n",
              "      <td>0</td>\n",
              "      <td>0</td>\n",
              "      <td>100.30</td>\n",
              "      <td>3541.40</td>\n",
              "      <td>1</td>\n",
              "      <td>0</td>\n",
              "      <td>0</td>\n",
              "      <td>1</td>\n",
              "      <td>1</td>\n",
              "    </tr>\n",
              "  </tbody>\n",
              "</table>\n",
              "</div>\n",
              "      <button class=\"colab-df-convert\" onclick=\"convertToInteractive('df-73e0fd48-9260-419f-b8b8-905ab1818989')\"\n",
              "              title=\"Convert this dataframe to an interactive table.\"\n",
              "              style=\"display:none;\">\n",
              "        \n",
              "  <svg xmlns=\"http://www.w3.org/2000/svg\" height=\"24px\"viewBox=\"0 0 24 24\"\n",
              "       width=\"24px\">\n",
              "    <path d=\"M0 0h24v24H0V0z\" fill=\"none\"/>\n",
              "    <path d=\"M18.56 5.44l.94 2.06.94-2.06 2.06-.94-2.06-.94-.94-2.06-.94 2.06-2.06.94zm-11 1L8.5 8.5l.94-2.06 2.06-.94-2.06-.94L8.5 2.5l-.94 2.06-2.06.94zm10 10l.94 2.06.94-2.06 2.06-.94-2.06-.94-.94-2.06-.94 2.06-2.06.94z\"/><path d=\"M17.41 7.96l-1.37-1.37c-.4-.4-.92-.59-1.43-.59-.52 0-1.04.2-1.43.59L10.3 9.45l-7.72 7.72c-.78.78-.78 2.05 0 2.83L4 21.41c.39.39.9.59 1.41.59.51 0 1.02-.2 1.41-.59l7.78-7.78 2.81-2.81c.8-.78.8-2.07 0-2.86zM5.41 20L4 18.59l7.72-7.72 1.47 1.35L5.41 20z\"/>\n",
              "  </svg>\n",
              "      </button>\n",
              "      \n",
              "  <style>\n",
              "    .colab-df-container {\n",
              "      display:flex;\n",
              "      flex-wrap:wrap;\n",
              "      gap: 12px;\n",
              "    }\n",
              "\n",
              "    .colab-df-convert {\n",
              "      background-color: #E8F0FE;\n",
              "      border: none;\n",
              "      border-radius: 50%;\n",
              "      cursor: pointer;\n",
              "      display: none;\n",
              "      fill: #1967D2;\n",
              "      height: 32px;\n",
              "      padding: 0 0 0 0;\n",
              "      width: 32px;\n",
              "    }\n",
              "\n",
              "    .colab-df-convert:hover {\n",
              "      background-color: #E2EBFA;\n",
              "      box-shadow: 0px 1px 2px rgba(60, 64, 67, 0.3), 0px 1px 3px 1px rgba(60, 64, 67, 0.15);\n",
              "      fill: #174EA6;\n",
              "    }\n",
              "\n",
              "    [theme=dark] .colab-df-convert {\n",
              "      background-color: #3B4455;\n",
              "      fill: #D2E3FC;\n",
              "    }\n",
              "\n",
              "    [theme=dark] .colab-df-convert:hover {\n",
              "      background-color: #434B5C;\n",
              "      box-shadow: 0px 1px 3px 1px rgba(0, 0, 0, 0.15);\n",
              "      filter: drop-shadow(0px 1px 2px rgba(0, 0, 0, 0.3));\n",
              "      fill: #FFFFFF;\n",
              "    }\n",
              "  </style>\n",
              "\n",
              "      <script>\n",
              "        const buttonEl =\n",
              "          document.querySelector('#df-73e0fd48-9260-419f-b8b8-905ab1818989 button.colab-df-convert');\n",
              "        buttonEl.style.display =\n",
              "          google.colab.kernel.accessAllowed ? 'block' : 'none';\n",
              "\n",
              "        async function convertToInteractive(key) {\n",
              "          const element = document.querySelector('#df-73e0fd48-9260-419f-b8b8-905ab1818989');\n",
              "          const dataTable =\n",
              "            await google.colab.kernel.invokeFunction('convertToInteractive',\n",
              "                                                     [key], {});\n",
              "          if (!dataTable) return;\n",
              "\n",
              "          const docLinkHtml = 'Like what you see? Visit the ' +\n",
              "            '<a target=\"_blank\" href=https://colab.research.google.com/notebooks/data_table.ipynb>data table notebook</a>'\n",
              "            + ' to learn more about interactive tables.';\n",
              "          element.innerHTML = '';\n",
              "          dataTable['output_type'] = 'display_data';\n",
              "          await google.colab.output.renderOutput(dataTable, element);\n",
              "          const docLink = document.createElement('div');\n",
              "          docLink.innerHTML = docLinkHtml;\n",
              "          element.appendChild(docLink);\n",
              "        }\n",
              "      </script>\n",
              "    </div>\n",
              "  </div>\n",
              "  "
            ]
          },
          "metadata": {},
          "execution_count": 52
        }
      ]
    },
    {
      "cell_type": "code",
      "source": [
        "# Export to R Studio for modelling\n",
        "new_df.to_csv(\"./no_outliers.csv\")\n",
        "df.to_csv(\"./with_outliers.csv\")"
      ],
      "metadata": {
        "id": "H0Bbzsc07eD8"
      },
      "execution_count": 53,
      "outputs": []
    },
    {
      "cell_type": "markdown",
      "source": [
        "Finding Associations"
      ],
      "metadata": {
        "id": "mRy_ZDw5xuOj"
      }
    },
    {
      "cell_type": "code",
      "source": [
        "# General overview of correlations across different variables\n",
        "df.corr()"
      ],
      "metadata": {
        "colab": {
          "base_uri": "https://localhost:8080/",
          "height": 646
        },
        "id": "lAqQO_ctAUdr",
        "outputId": "3a424b2b-42ad-470f-9259-c9293d7af7a4"
      },
      "execution_count": 23,
      "outputs": [
        {
          "output_type": "execute_result",
          "data": {
            "text/plain": [
              "                            gender  is45OrOlder  isMarried   hasKids  \\\n",
              "gender                    1.000000    -0.009829   0.000201  0.012727   \n",
              "is45OrOlder              -0.009829     1.000000   0.013269 -0.213108   \n",
              "isMarried                 0.000201     0.013269   1.000000  0.451750   \n",
              "hasKids                   0.012727    -0.213108   0.451750  1.000000   \n",
              "insuredMonths             0.006300     0.001907   0.244015  0.101128   \n",
              "termLifeInsurance        -0.003057     0.016571   0.014194 -0.009921   \n",
              "multipleTermLifePolicies  0.000973     0.140722   0.145658 -0.021365   \n",
              "healthInsurance          -0.011120     0.179985   0.006200 -0.131261   \n",
              "premiumFrequency          0.000842    -0.142347   0.294751  0.241957   \n",
              "eStatements              -0.004691     0.158768  -0.005887 -0.114051   \n",
              "monthlyPremium            0.014936     0.048033   0.009608 -0.008969   \n",
              "totalPremium              0.004784     0.040268   0.047210  0.020047   \n",
              "renewal                  -0.000102    -0.155557   0.159694  0.172287   \n",
              "rider1                   -0.011567    -0.035148   0.148765  0.087874   \n",
              "rider2                   -0.014182     0.064021   0.147840  0.040998   \n",
              "rider3                   -0.018019     0.095542   0.122078 -0.005747   \n",
              "rider4                   -0.015285     0.103368   0.129569 -0.020951   \n",
              "\n",
              "                          insuredMonths  termLifeInsurance  \\\n",
              "gender                         0.006300          -0.003057   \n",
              "is45OrOlder                    0.001907           0.016571   \n",
              "isMarried                      0.244015           0.014194   \n",
              "hasKids                        0.101128          -0.009921   \n",
              "insuredMonths                  1.000000           0.008829   \n",
              "termLifeInsurance              0.008829           1.000000   \n",
              "multipleTermLifePolicies       0.216737           0.278698   \n",
              "healthInsurance                0.012757          -0.173519   \n",
              "premiumFrequency               0.403958          -0.003255   \n",
              "eStatements                   -0.002164           0.022950   \n",
              "monthlyPremium                 0.019457           0.015593   \n",
              "totalPremium                   0.070517           0.019555   \n",
              "renewal                        0.226805          -0.007775   \n",
              "rider1                         0.201575          -0.103721   \n",
              "rider2                         0.213928          -0.047614   \n",
              "rider3                         0.158259          -0.028325   \n",
              "rider4                         0.170715          -0.030609   \n",
              "\n",
              "                          multipleTermLifePolicies  healthInsurance  \\\n",
              "gender                                    0.000973        -0.011120   \n",
              "is45OrOlder                               0.140722         0.179985   \n",
              "isMarried                                 0.145658         0.006200   \n",
              "hasKids                                  -0.021365        -0.131261   \n",
              "insuredMonths                             0.216737         0.012757   \n",
              "termLifeInsurance                         0.278698        -0.173519   \n",
              "multipleTermLifePolicies                  1.000000         0.202649   \n",
              "healthInsurance                           0.202649         1.000000   \n",
              "premiumFrequency                          0.101666        -0.240386   \n",
              "eStatements                               0.164938         0.326207   \n",
              "monthlyPremium                            0.065352         0.070597   \n",
              "totalPremium                              0.076781         0.055796   \n",
              "renewal                                  -0.045965        -0.231479   \n",
              "rider1                                    0.092003         0.334599   \n",
              "rider2                                    0.187179         0.383761   \n",
              "rider3                                    0.257382         0.417001   \n",
              "rider4                                    0.255939         0.417322   \n",
              "\n",
              "                          premiumFrequency  eStatements  monthlyPremium  \\\n",
              "gender                            0.000842    -0.004691        0.014936   \n",
              "is45OrOlder                      -0.142347     0.158768        0.048033   \n",
              "isMarried                         0.294751    -0.005887        0.009608   \n",
              "hasKids                           0.241957    -0.114051       -0.008969   \n",
              "insuredMonths                     0.403958    -0.002164        0.019457   \n",
              "termLifeInsurance                -0.003255     0.022950        0.015593   \n",
              "multipleTermLifePolicies          0.101666     0.164938        0.065352   \n",
              "healthInsurance                  -0.240386     0.326207        0.070597   \n",
              "premiumFrequency                  1.000000    -0.179568       -0.012084   \n",
              "eStatements                      -0.179568     1.000000        0.020627   \n",
              "monthlyPremium                   -0.012084     0.020627        1.000000   \n",
              "totalPremium                      0.051753     0.013904        0.617800   \n",
              "renewal                           0.393101    -0.195704        0.000090   \n",
              "rider1                            0.238546     0.000759        0.027177   \n",
              "rider2                            0.154900     0.139918        0.053302   \n",
              "rider3                            0.097338     0.224361        0.057495   \n",
              "rider4                            0.108393     0.204433        0.061084   \n",
              "\n",
              "                          totalPremium   renewal    rider1    rider2  \\\n",
              "gender                        0.004784 -0.000102 -0.011567 -0.014182   \n",
              "is45OrOlder                   0.040268 -0.155557 -0.035148  0.064021   \n",
              "isMarried                     0.047210  0.159694  0.148765  0.147840   \n",
              "hasKids                       0.020047  0.172287  0.087874  0.040998   \n",
              "insuredMonths                 0.070517  0.226805  0.201575  0.213928   \n",
              "termLifeInsurance             0.019555 -0.007775 -0.103721 -0.047614   \n",
              "multipleTermLifePolicies      0.076781 -0.045965  0.092003  0.187179   \n",
              "healthInsurance               0.055796 -0.231479  0.334599  0.383761   \n",
              "premiumFrequency              0.051753  0.393101  0.238546  0.154900   \n",
              "eStatements                   0.013904 -0.195704  0.000759  0.139918   \n",
              "monthlyPremium                0.617800  0.000090  0.027177  0.053302   \n",
              "totalPremium                  1.000000  0.027802  0.056738  0.080695   \n",
              "renewal                       0.027802  1.000000  0.180064  0.074317   \n",
              "rider1                        0.056738  0.180064  1.000000  0.289568   \n",
              "rider2                        0.080695  0.074317  0.289568  1.000000   \n",
              "rider3                        0.068293 -0.064453  0.180139  0.277844   \n",
              "rider4                        0.076006 -0.057233  0.191248  0.276464   \n",
              "\n",
              "                            rider3    rider4  \n",
              "gender                   -0.018019 -0.015285  \n",
              "is45OrOlder               0.095542  0.103368  \n",
              "isMarried                 0.122078  0.129569  \n",
              "hasKids                  -0.005747 -0.020951  \n",
              "insuredMonths             0.158259  0.170715  \n",
              "termLifeInsurance        -0.028325 -0.030609  \n",
              "multipleTermLifePolicies  0.257382  0.255939  \n",
              "healthInsurance           0.417001  0.417322  \n",
              "premiumFrequency          0.097338  0.108393  \n",
              "eStatements               0.224361  0.204433  \n",
              "monthlyPremium            0.057495  0.061084  \n",
              "totalPremium              0.068293  0.076006  \n",
              "renewal                  -0.064453 -0.057233  \n",
              "rider1                    0.180139  0.191248  \n",
              "rider2                    0.277844  0.276464  \n",
              "rider3                    1.000000  0.545518  \n",
              "rider4                    0.545518  1.000000  "
            ],
            "text/html": [
              "\n",
              "  <div id=\"df-66f9114f-f112-4ef8-be05-4940a8186755\">\n",
              "    <div class=\"colab-df-container\">\n",
              "      <div>\n",
              "<style scoped>\n",
              "    .dataframe tbody tr th:only-of-type {\n",
              "        vertical-align: middle;\n",
              "    }\n",
              "\n",
              "    .dataframe tbody tr th {\n",
              "        vertical-align: top;\n",
              "    }\n",
              "\n",
              "    .dataframe thead th {\n",
              "        text-align: right;\n",
              "    }\n",
              "</style>\n",
              "<table border=\"1\" class=\"dataframe\">\n",
              "  <thead>\n",
              "    <tr style=\"text-align: right;\">\n",
              "      <th></th>\n",
              "      <th>gender</th>\n",
              "      <th>is45OrOlder</th>\n",
              "      <th>isMarried</th>\n",
              "      <th>hasKids</th>\n",
              "      <th>insuredMonths</th>\n",
              "      <th>termLifeInsurance</th>\n",
              "      <th>multipleTermLifePolicies</th>\n",
              "      <th>healthInsurance</th>\n",
              "      <th>premiumFrequency</th>\n",
              "      <th>eStatements</th>\n",
              "      <th>monthlyPremium</th>\n",
              "      <th>totalPremium</th>\n",
              "      <th>renewal</th>\n",
              "      <th>rider1</th>\n",
              "      <th>rider2</th>\n",
              "      <th>rider3</th>\n",
              "      <th>rider4</th>\n",
              "    </tr>\n",
              "  </thead>\n",
              "  <tbody>\n",
              "    <tr>\n",
              "      <th>gender</th>\n",
              "      <td>1.000000</td>\n",
              "      <td>-0.009829</td>\n",
              "      <td>0.000201</td>\n",
              "      <td>0.012727</td>\n",
              "      <td>0.006300</td>\n",
              "      <td>-0.003057</td>\n",
              "      <td>0.000973</td>\n",
              "      <td>-0.011120</td>\n",
              "      <td>0.000842</td>\n",
              "      <td>-0.004691</td>\n",
              "      <td>0.014936</td>\n",
              "      <td>0.004784</td>\n",
              "      <td>-0.000102</td>\n",
              "      <td>-0.011567</td>\n",
              "      <td>-0.014182</td>\n",
              "      <td>-0.018019</td>\n",
              "      <td>-0.015285</td>\n",
              "    </tr>\n",
              "    <tr>\n",
              "      <th>is45OrOlder</th>\n",
              "      <td>-0.009829</td>\n",
              "      <td>1.000000</td>\n",
              "      <td>0.013269</td>\n",
              "      <td>-0.213108</td>\n",
              "      <td>0.001907</td>\n",
              "      <td>0.016571</td>\n",
              "      <td>0.140722</td>\n",
              "      <td>0.179985</td>\n",
              "      <td>-0.142347</td>\n",
              "      <td>0.158768</td>\n",
              "      <td>0.048033</td>\n",
              "      <td>0.040268</td>\n",
              "      <td>-0.155557</td>\n",
              "      <td>-0.035148</td>\n",
              "      <td>0.064021</td>\n",
              "      <td>0.095542</td>\n",
              "      <td>0.103368</td>\n",
              "    </tr>\n",
              "    <tr>\n",
              "      <th>isMarried</th>\n",
              "      <td>0.000201</td>\n",
              "      <td>0.013269</td>\n",
              "      <td>1.000000</td>\n",
              "      <td>0.451750</td>\n",
              "      <td>0.244015</td>\n",
              "      <td>0.014194</td>\n",
              "      <td>0.145658</td>\n",
              "      <td>0.006200</td>\n",
              "      <td>0.294751</td>\n",
              "      <td>-0.005887</td>\n",
              "      <td>0.009608</td>\n",
              "      <td>0.047210</td>\n",
              "      <td>0.159694</td>\n",
              "      <td>0.148765</td>\n",
              "      <td>0.147840</td>\n",
              "      <td>0.122078</td>\n",
              "      <td>0.129569</td>\n",
              "    </tr>\n",
              "    <tr>\n",
              "      <th>hasKids</th>\n",
              "      <td>0.012727</td>\n",
              "      <td>-0.213108</td>\n",
              "      <td>0.451750</td>\n",
              "      <td>1.000000</td>\n",
              "      <td>0.101128</td>\n",
              "      <td>-0.009921</td>\n",
              "      <td>-0.021365</td>\n",
              "      <td>-0.131261</td>\n",
              "      <td>0.241957</td>\n",
              "      <td>-0.114051</td>\n",
              "      <td>-0.008969</td>\n",
              "      <td>0.020047</td>\n",
              "      <td>0.172287</td>\n",
              "      <td>0.087874</td>\n",
              "      <td>0.040998</td>\n",
              "      <td>-0.005747</td>\n",
              "      <td>-0.020951</td>\n",
              "    </tr>\n",
              "    <tr>\n",
              "      <th>insuredMonths</th>\n",
              "      <td>0.006300</td>\n",
              "      <td>0.001907</td>\n",
              "      <td>0.244015</td>\n",
              "      <td>0.101128</td>\n",
              "      <td>1.000000</td>\n",
              "      <td>0.008829</td>\n",
              "      <td>0.216737</td>\n",
              "      <td>0.012757</td>\n",
              "      <td>0.403958</td>\n",
              "      <td>-0.002164</td>\n",
              "      <td>0.019457</td>\n",
              "      <td>0.070517</td>\n",
              "      <td>0.226805</td>\n",
              "      <td>0.201575</td>\n",
              "      <td>0.213928</td>\n",
              "      <td>0.158259</td>\n",
              "      <td>0.170715</td>\n",
              "    </tr>\n",
              "    <tr>\n",
              "      <th>termLifeInsurance</th>\n",
              "      <td>-0.003057</td>\n",
              "      <td>0.016571</td>\n",
              "      <td>0.014194</td>\n",
              "      <td>-0.009921</td>\n",
              "      <td>0.008829</td>\n",
              "      <td>1.000000</td>\n",
              "      <td>0.278698</td>\n",
              "      <td>-0.173519</td>\n",
              "      <td>-0.003255</td>\n",
              "      <td>0.022950</td>\n",
              "      <td>0.015593</td>\n",
              "      <td>0.019555</td>\n",
              "      <td>-0.007775</td>\n",
              "      <td>-0.103721</td>\n",
              "      <td>-0.047614</td>\n",
              "      <td>-0.028325</td>\n",
              "      <td>-0.030609</td>\n",
              "    </tr>\n",
              "    <tr>\n",
              "      <th>multipleTermLifePolicies</th>\n",
              "      <td>0.000973</td>\n",
              "      <td>0.140722</td>\n",
              "      <td>0.145658</td>\n",
              "      <td>-0.021365</td>\n",
              "      <td>0.216737</td>\n",
              "      <td>0.278698</td>\n",
              "      <td>1.000000</td>\n",
              "      <td>0.202649</td>\n",
              "      <td>0.101666</td>\n",
              "      <td>0.164938</td>\n",
              "      <td>0.065352</td>\n",
              "      <td>0.076781</td>\n",
              "      <td>-0.045965</td>\n",
              "      <td>0.092003</td>\n",
              "      <td>0.187179</td>\n",
              "      <td>0.257382</td>\n",
              "      <td>0.255939</td>\n",
              "    </tr>\n",
              "    <tr>\n",
              "      <th>healthInsurance</th>\n",
              "      <td>-0.011120</td>\n",
              "      <td>0.179985</td>\n",
              "      <td>0.006200</td>\n",
              "      <td>-0.131261</td>\n",
              "      <td>0.012757</td>\n",
              "      <td>-0.173519</td>\n",
              "      <td>0.202649</td>\n",
              "      <td>1.000000</td>\n",
              "      <td>-0.240386</td>\n",
              "      <td>0.326207</td>\n",
              "      <td>0.070597</td>\n",
              "      <td>0.055796</td>\n",
              "      <td>-0.231479</td>\n",
              "      <td>0.334599</td>\n",
              "      <td>0.383761</td>\n",
              "      <td>0.417001</td>\n",
              "      <td>0.417322</td>\n",
              "    </tr>\n",
              "    <tr>\n",
              "      <th>premiumFrequency</th>\n",
              "      <td>0.000842</td>\n",
              "      <td>-0.142347</td>\n",
              "      <td>0.294751</td>\n",
              "      <td>0.241957</td>\n",
              "      <td>0.403958</td>\n",
              "      <td>-0.003255</td>\n",
              "      <td>0.101666</td>\n",
              "      <td>-0.240386</td>\n",
              "      <td>1.000000</td>\n",
              "      <td>-0.179568</td>\n",
              "      <td>-0.012084</td>\n",
              "      <td>0.051753</td>\n",
              "      <td>0.393101</td>\n",
              "      <td>0.238546</td>\n",
              "      <td>0.154900</td>\n",
              "      <td>0.097338</td>\n",
              "      <td>0.108393</td>\n",
              "    </tr>\n",
              "    <tr>\n",
              "      <th>eStatements</th>\n",
              "      <td>-0.004691</td>\n",
              "      <td>0.158768</td>\n",
              "      <td>-0.005887</td>\n",
              "      <td>-0.114051</td>\n",
              "      <td>-0.002164</td>\n",
              "      <td>0.022950</td>\n",
              "      <td>0.164938</td>\n",
              "      <td>0.326207</td>\n",
              "      <td>-0.179568</td>\n",
              "      <td>1.000000</td>\n",
              "      <td>0.020627</td>\n",
              "      <td>0.013904</td>\n",
              "      <td>-0.195704</td>\n",
              "      <td>0.000759</td>\n",
              "      <td>0.139918</td>\n",
              "      <td>0.224361</td>\n",
              "      <td>0.204433</td>\n",
              "    </tr>\n",
              "    <tr>\n",
              "      <th>monthlyPremium</th>\n",
              "      <td>0.014936</td>\n",
              "      <td>0.048033</td>\n",
              "      <td>0.009608</td>\n",
              "      <td>-0.008969</td>\n",
              "      <td>0.019457</td>\n",
              "      <td>0.015593</td>\n",
              "      <td>0.065352</td>\n",
              "      <td>0.070597</td>\n",
              "      <td>-0.012084</td>\n",
              "      <td>0.020627</td>\n",
              "      <td>1.000000</td>\n",
              "      <td>0.617800</td>\n",
              "      <td>0.000090</td>\n",
              "      <td>0.027177</td>\n",
              "      <td>0.053302</td>\n",
              "      <td>0.057495</td>\n",
              "      <td>0.061084</td>\n",
              "    </tr>\n",
              "    <tr>\n",
              "      <th>totalPremium</th>\n",
              "      <td>0.004784</td>\n",
              "      <td>0.040268</td>\n",
              "      <td>0.047210</td>\n",
              "      <td>0.020047</td>\n",
              "      <td>0.070517</td>\n",
              "      <td>0.019555</td>\n",
              "      <td>0.076781</td>\n",
              "      <td>0.055796</td>\n",
              "      <td>0.051753</td>\n",
              "      <td>0.013904</td>\n",
              "      <td>0.617800</td>\n",
              "      <td>1.000000</td>\n",
              "      <td>0.027802</td>\n",
              "      <td>0.056738</td>\n",
              "      <td>0.080695</td>\n",
              "      <td>0.068293</td>\n",
              "      <td>0.076006</td>\n",
              "    </tr>\n",
              "    <tr>\n",
              "      <th>renewal</th>\n",
              "      <td>-0.000102</td>\n",
              "      <td>-0.155557</td>\n",
              "      <td>0.159694</td>\n",
              "      <td>0.172287</td>\n",
              "      <td>0.226805</td>\n",
              "      <td>-0.007775</td>\n",
              "      <td>-0.045965</td>\n",
              "      <td>-0.231479</td>\n",
              "      <td>0.393101</td>\n",
              "      <td>-0.195704</td>\n",
              "      <td>0.000090</td>\n",
              "      <td>0.027802</td>\n",
              "      <td>1.000000</td>\n",
              "      <td>0.180064</td>\n",
              "      <td>0.074317</td>\n",
              "      <td>-0.064453</td>\n",
              "      <td>-0.057233</td>\n",
              "    </tr>\n",
              "    <tr>\n",
              "      <th>rider1</th>\n",
              "      <td>-0.011567</td>\n",
              "      <td>-0.035148</td>\n",
              "      <td>0.148765</td>\n",
              "      <td>0.087874</td>\n",
              "      <td>0.201575</td>\n",
              "      <td>-0.103721</td>\n",
              "      <td>0.092003</td>\n",
              "      <td>0.334599</td>\n",
              "      <td>0.238546</td>\n",
              "      <td>0.000759</td>\n",
              "      <td>0.027177</td>\n",
              "      <td>0.056738</td>\n",
              "      <td>0.180064</td>\n",
              "      <td>1.000000</td>\n",
              "      <td>0.289568</td>\n",
              "      <td>0.180139</td>\n",
              "      <td>0.191248</td>\n",
              "    </tr>\n",
              "    <tr>\n",
              "      <th>rider2</th>\n",
              "      <td>-0.014182</td>\n",
              "      <td>0.064021</td>\n",
              "      <td>0.147840</td>\n",
              "      <td>0.040998</td>\n",
              "      <td>0.213928</td>\n",
              "      <td>-0.047614</td>\n",
              "      <td>0.187179</td>\n",
              "      <td>0.383761</td>\n",
              "      <td>0.154900</td>\n",
              "      <td>0.139918</td>\n",
              "      <td>0.053302</td>\n",
              "      <td>0.080695</td>\n",
              "      <td>0.074317</td>\n",
              "      <td>0.289568</td>\n",
              "      <td>1.000000</td>\n",
              "      <td>0.277844</td>\n",
              "      <td>0.276464</td>\n",
              "    </tr>\n",
              "    <tr>\n",
              "      <th>rider3</th>\n",
              "      <td>-0.018019</td>\n",
              "      <td>0.095542</td>\n",
              "      <td>0.122078</td>\n",
              "      <td>-0.005747</td>\n",
              "      <td>0.158259</td>\n",
              "      <td>-0.028325</td>\n",
              "      <td>0.257382</td>\n",
              "      <td>0.417001</td>\n",
              "      <td>0.097338</td>\n",
              "      <td>0.224361</td>\n",
              "      <td>0.057495</td>\n",
              "      <td>0.068293</td>\n",
              "      <td>-0.064453</td>\n",
              "      <td>0.180139</td>\n",
              "      <td>0.277844</td>\n",
              "      <td>1.000000</td>\n",
              "      <td>0.545518</td>\n",
              "    </tr>\n",
              "    <tr>\n",
              "      <th>rider4</th>\n",
              "      <td>-0.015285</td>\n",
              "      <td>0.103368</td>\n",
              "      <td>0.129569</td>\n",
              "      <td>-0.020951</td>\n",
              "      <td>0.170715</td>\n",
              "      <td>-0.030609</td>\n",
              "      <td>0.255939</td>\n",
              "      <td>0.417322</td>\n",
              "      <td>0.108393</td>\n",
              "      <td>0.204433</td>\n",
              "      <td>0.061084</td>\n",
              "      <td>0.076006</td>\n",
              "      <td>-0.057233</td>\n",
              "      <td>0.191248</td>\n",
              "      <td>0.276464</td>\n",
              "      <td>0.545518</td>\n",
              "      <td>1.000000</td>\n",
              "    </tr>\n",
              "  </tbody>\n",
              "</table>\n",
              "</div>\n",
              "      <button class=\"colab-df-convert\" onclick=\"convertToInteractive('df-66f9114f-f112-4ef8-be05-4940a8186755')\"\n",
              "              title=\"Convert this dataframe to an interactive table.\"\n",
              "              style=\"display:none;\">\n",
              "        \n",
              "  <svg xmlns=\"http://www.w3.org/2000/svg\" height=\"24px\"viewBox=\"0 0 24 24\"\n",
              "       width=\"24px\">\n",
              "    <path d=\"M0 0h24v24H0V0z\" fill=\"none\"/>\n",
              "    <path d=\"M18.56 5.44l.94 2.06.94-2.06 2.06-.94-2.06-.94-.94-2.06-.94 2.06-2.06.94zm-11 1L8.5 8.5l.94-2.06 2.06-.94-2.06-.94L8.5 2.5l-.94 2.06-2.06.94zm10 10l.94 2.06.94-2.06 2.06-.94-2.06-.94-.94-2.06-.94 2.06-2.06.94z\"/><path d=\"M17.41 7.96l-1.37-1.37c-.4-.4-.92-.59-1.43-.59-.52 0-1.04.2-1.43.59L10.3 9.45l-7.72 7.72c-.78.78-.78 2.05 0 2.83L4 21.41c.39.39.9.59 1.41.59.51 0 1.02-.2 1.41-.59l7.78-7.78 2.81-2.81c.8-.78.8-2.07 0-2.86zM5.41 20L4 18.59l7.72-7.72 1.47 1.35L5.41 20z\"/>\n",
              "  </svg>\n",
              "      </button>\n",
              "      \n",
              "  <style>\n",
              "    .colab-df-container {\n",
              "      display:flex;\n",
              "      flex-wrap:wrap;\n",
              "      gap: 12px;\n",
              "    }\n",
              "\n",
              "    .colab-df-convert {\n",
              "      background-color: #E8F0FE;\n",
              "      border: none;\n",
              "      border-radius: 50%;\n",
              "      cursor: pointer;\n",
              "      display: none;\n",
              "      fill: #1967D2;\n",
              "      height: 32px;\n",
              "      padding: 0 0 0 0;\n",
              "      width: 32px;\n",
              "    }\n",
              "\n",
              "    .colab-df-convert:hover {\n",
              "      background-color: #E2EBFA;\n",
              "      box-shadow: 0px 1px 2px rgba(60, 64, 67, 0.3), 0px 1px 3px 1px rgba(60, 64, 67, 0.15);\n",
              "      fill: #174EA6;\n",
              "    }\n",
              "\n",
              "    [theme=dark] .colab-df-convert {\n",
              "      background-color: #3B4455;\n",
              "      fill: #D2E3FC;\n",
              "    }\n",
              "\n",
              "    [theme=dark] .colab-df-convert:hover {\n",
              "      background-color: #434B5C;\n",
              "      box-shadow: 0px 1px 3px 1px rgba(0, 0, 0, 0.15);\n",
              "      filter: drop-shadow(0px 1px 2px rgba(0, 0, 0, 0.3));\n",
              "      fill: #FFFFFF;\n",
              "    }\n",
              "  </style>\n",
              "\n",
              "      <script>\n",
              "        const buttonEl =\n",
              "          document.querySelector('#df-66f9114f-f112-4ef8-be05-4940a8186755 button.colab-df-convert');\n",
              "        buttonEl.style.display =\n",
              "          google.colab.kernel.accessAllowed ? 'block' : 'none';\n",
              "\n",
              "        async function convertToInteractive(key) {\n",
              "          const element = document.querySelector('#df-66f9114f-f112-4ef8-be05-4940a8186755');\n",
              "          const dataTable =\n",
              "            await google.colab.kernel.invokeFunction('convertToInteractive',\n",
              "                                                     [key], {});\n",
              "          if (!dataTable) return;\n",
              "\n",
              "          const docLinkHtml = 'Like what you see? Visit the ' +\n",
              "            '<a target=\"_blank\" href=https://colab.research.google.com/notebooks/data_table.ipynb>data table notebook</a>'\n",
              "            + ' to learn more about interactive tables.';\n",
              "          element.innerHTML = '';\n",
              "          dataTable['output_type'] = 'display_data';\n",
              "          await google.colab.output.renderOutput(dataTable, element);\n",
              "          const docLink = document.createElement('div');\n",
              "          docLink.innerHTML = docLinkHtml;\n",
              "          element.appendChild(docLink);\n",
              "        }\n",
              "      </script>\n",
              "    </div>\n",
              "  </div>\n",
              "  "
            ]
          },
          "metadata": {},
          "execution_count": 23
        }
      ]
    },
    {
      "cell_type": "code",
      "source": [
        "# What is the average number of riders health insurance customers purchase\n",
        "average_riders = (df[\"rider1\"]+df[\"rider2\"]+df[\"rider3\"]+df[\"rider4\"]).sum() / len(df)\n",
        "print(\"Average Number of Riders: \" + str(average_riders))"
      ],
      "metadata": {
        "colab": {
          "base_uri": "https://localhost:8080/"
        },
        "id": "C9jfnOvExtjR",
        "outputId": "ccd1a845-9754-4282-d709-9798aaa0e69d"
      },
      "execution_count": 24,
      "outputs": [
        {
          "output_type": "stream",
          "name": "stdout",
          "text": [
            "Average Number of Riders: 1.3912727272727272\n"
          ]
        }
      ]
    },
    {
      "cell_type": "code",
      "source": [
        "# Which ones are the most popular?\n",
        "most_popular = []\n",
        "number_of_subs = []\n",
        "for i in [\"rider1\", \"rider2\", \"rider3\", \"rider4\"]:\n",
        "    number_of_subs.append(df[i].sum())\n",
        "    most_popular.append(i)\n",
        "plt.bar(most_popular, number_of_subs)"
      ],
      "metadata": {
        "colab": {
          "base_uri": "https://localhost:8080/",
          "height": 282
        },
        "id": "t1oPRU7wGNfU",
        "outputId": "feeb047e-243c-4cd5-c2cf-1e94f54e3c69"
      },
      "execution_count": 25,
      "outputs": [
        {
          "output_type": "execute_result",
          "data": {
            "text/plain": [
              "<BarContainer object of 4 artists>"
            ]
          },
          "metadata": {},
          "execution_count": 25
        },
        {
          "output_type": "display_data",
          "data": {
            "text/plain": [
              "<Figure size 432x288 with 1 Axes>"
            ],
            "image/png": "[encoded data removed]"
          },
          "metadata": {
            "needs_background": "light"
          }
        }
      ]
    },
    {
      "cell_type": "code",
      "source": [
        "# What is the most popular rider for older people?\n",
        "tmp = df.loc[df['is45OrOlder'] == 1]\n",
        "most_popular = []\n",
        "number_of_subs = []\n",
        "for i in [\"rider1\", \"rider2\", \"rider3\", \"rider4\"]:\n",
        "    number_of_subs.append(tmp[i].sum())\n",
        "    most_popular.append(i)\n",
        "plt.bar(most_popular, number_of_subs)"
      ],
      "metadata": {
        "colab": {
          "base_uri": "https://localhost:8080/",
          "height": 282
        },
        "id": "yd0pXoQ69cqM",
        "outputId": "d0147af1-42f5-4ba3-9272-8c81c94e4531"
      },
      "execution_count": 26,
      "outputs": [
        {
          "output_type": "execute_result",
          "data": {
            "text/plain": [
              "<BarContainer object of 4 artists>"
            ]
          },
          "metadata": {},
          "execution_count": 26
        },
        {
          "output_type": "display_data",
          "data": {
            "text/plain": [
              "<Figure size 432x288 with 1 Axes>"
            ],
            "image/png": "[encoded data removed]"
          },
          "metadata": {
            "needs_background": "light"
          }
        }
      ]
    },
    {
      "cell_type": "code",
      "source": [
        "# What is the most popular rider for married people?\n",
        "tmp = df.loc[df['isMarried'] == 1]\n",
        "most_popular = []\n",
        "number_of_subs = []\n",
        "for i in [\"rider1\", \"rider2\", \"rider3\", \"rider4\"]:\n",
        "    number_of_subs.append(tmp[i].sum())\n",
        "    most_popular.append(i)\n",
        "plt.bar(most_popular, number_of_subs)"
      ],
      "metadata": {
        "colab": {
          "base_uri": "https://localhost:8080/",
          "height": 282
        },
        "id": "pqQCAoDc-GEj",
        "outputId": "c704005c-3697-4a7e-a8cf-f719f18889d6"
      },
      "execution_count": 27,
      "outputs": [
        {
          "output_type": "execute_result",
          "data": {
            "text/plain": [
              "<BarContainer object of 4 artists>"
            ]
          },
          "metadata": {},
          "execution_count": 27
        },
        {
          "output_type": "display_data",
          "data": {
            "text/plain": [
              "<Figure size 432x288 with 1 Axes>"
            ],
            "image/png": "[encoded data removed]"
          },
          "metadata": {
            "needs_background": "light"
          }
        }
      ]
    },
    {
      "cell_type": "code",
      "source": [
        "# What is the most popular rider for people with kids?\n",
        "tmp = df.loc[df['hasKids'] == 1]\n",
        "most_popular = []\n",
        "number_of_subs = []\n",
        "for i in [\"rider1\", \"rider2\", \"rider3\", \"rider4\"]:\n",
        "    number_of_subs.append(tmp[i].sum())\n",
        "    most_popular.append(i)\n",
        "plt.bar(most_popular, number_of_subs)"
      ],
      "metadata": {
        "colab": {
          "base_uri": "https://localhost:8080/",
          "height": 282
        },
        "id": "5YL9rrtT_bRz",
        "outputId": "37dbcd84-c695-46b6-a0ec-82cabdfaa7cf"
      },
      "execution_count": 28,
      "outputs": [
        {
          "output_type": "execute_result",
          "data": {
            "text/plain": [
              "<BarContainer object of 4 artists>"
            ]
          },
          "metadata": {},
          "execution_count": 28
        },
        {
          "output_type": "display_data",
          "data": {
            "text/plain": [
              "<Figure size 432x288 with 1 Axes>"
            ],
            "image/png": "[encoded data removed]"
          },
          "metadata": {
            "needs_background": "light"
          }
        }
      ]
    },
    {
      "cell_type": "code",
      "source": [
        "# Percentage of people who have term life policy?\n",
        "print(df[\"termLifeInsurance\"].sum() / len(df) * 100)\n",
        "\n",
        "# Percentage of people who have term life policy have multiple of them?\n",
        "print(df[\"multipleTermLifePolicies\"].sum() / len(df) * 100)"
      ],
      "metadata": {
        "colab": {
          "base_uri": "https://localhost:8080/"
        },
        "id": "WBg-RJV3COrC",
        "outputId": "7726a1c1-e15a-485f-c609-ee78ecaf0846"
      },
      "execution_count": 29,
      "outputs": [
        {
          "output_type": "stream",
          "name": "stdout",
          "text": [
            "90.34545454545454\n",
            "42.09090909090909\n"
          ]
        }
      ]
    },
    {
      "cell_type": "code",
      "source": [
        "# Percentage of old people who have term life policy?\n",
        "print(df.loc[df['is45OrOlder'] == 1][\"termLifeInsurance\"].sum() / len(df.loc[df['is45OrOlder'] == 1]) * 100)\n",
        "\n",
        "# Percentage of old people who have term life policy have multiple of them?\n",
        "print(df.loc[df['is45OrOlder'] == 1][\"multipleTermLifePolicies\"].sum() / len(df.loc[df['is45OrOlder'] == 1]) * 100)\n",
        "\n",
        "# Older people tend to have term life policy as compared to average and have multiple policies more often than average."
      ],
      "metadata": {
        "colab": {
          "base_uri": "https://localhost:8080/"
        },
        "id": "09vv0ipeMF1L",
        "outputId": "87fb01eb-a191-460b-fa0e-86bd6f580533"
      },
      "execution_count": 30,
      "outputs": [
        {
          "output_type": "stream",
          "name": "stdout",
          "text": [
            "91.46757679180887\n",
            "58.02047781569966\n"
          ]
        }
      ]
    },
    {
      "cell_type": "code",
      "source": [
        "# Are the older people spending more on insurance on average\n",
        "old = df.loc[df['is45OrOlder'] == 1]\n",
        "young = df.loc[df['is45OrOlder'] == 0]\n",
        "plt.bar([\"young\", \"old\"], [young[\"monthlyPremium\"].sum()/len(young), old[\"monthlyPremium\"].sum()/len(old)])"
      ],
      "metadata": {
        "colab": {
          "base_uri": "https://localhost:8080/",
          "height": 282
        },
        "id": "bNycSKsuD1Ki",
        "outputId": "786b9cc0-a040-4699-ada4-07a78c9419e6"
      },
      "execution_count": 31,
      "outputs": [
        {
          "output_type": "execute_result",
          "data": {
            "text/plain": [
              "<BarContainer object of 2 artists>"
            ]
          },
          "metadata": {},
          "execution_count": 31
        },
        {
          "output_type": "display_data",
          "data": {
            "text/plain": [
              "<Figure size 432x288 with 1 Axes>"
            ],
            "image/png": "[encoded data removed]"
          },
          "metadata": {
            "needs_background": "light"
          }
        }
      ]
    },
    {
      "cell_type": "code",
      "source": [
        "# Most expensive riders\n",
        "most_ex = []\n",
        "premium = []\n",
        "for i in [\"rider1\", \"rider2\", \"rider3\", \"rider4\"]:\n",
        "    premium.append(df.loc[df[i]==1][\"monthlyPremium\"].sum() / len(df.loc[df[i]==1]))\n",
        "    most_ex.append(i)\n",
        "plt.bar(most_ex, premium)"
      ],
      "metadata": {
        "colab": {
          "base_uri": "https://localhost:8080/",
          "height": 282
        },
        "id": "cvRpS-f_Ev-J",
        "outputId": "fd22081e-cb2f-440e-ef73-0336a3a4f43f"
      },
      "execution_count": 32,
      "outputs": [
        {
          "output_type": "execute_result",
          "data": {
            "text/plain": [
              "<BarContainer object of 4 artists>"
            ]
          },
          "metadata": {},
          "execution_count": 32
        },
        {
          "output_type": "display_data",
          "data": {
            "text/plain": [
              "<Figure size 432x288 with 1 Axes>"
            ],
            "image/png": "[encoded data removed]"
          },
          "metadata": {
            "needs_background": "light"
          }
        }
      ]
    },
    {
      "cell_type": "markdown",
      "source": [
        "Note: Data Modelling (in R)\n",
        "- Logistic Regression is used for interpretability"
      ],
      "metadata": {
        "id": "809S1TLox2Jh"
      }
    }
  ],
  "metadata": {
    "colab": {
      "provenance": []
    },
    "kernelspec": {
      "display_name": "Python 3",
      "name": "python3"
    },
    "language_info": {
      "name": "python"
    }
  },
  "nbformat": 4,
  "nbformat_minor": 0
}